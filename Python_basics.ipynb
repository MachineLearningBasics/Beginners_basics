{
 "cells": [
  {
   "cell_type": "markdown",
   "metadata": {},
   "source": [
    "# TO KNOW"
   ]
  },
  {
   "cell_type": "raw",
   "metadata": {},
   "source": [
    "a lot of shortucts could be used to make your life easier when executing cells in the notebook.\n",
    "The most important ones, that I use frequently:\n",
    "    ctrl + Enter : to execute a cell\n",
    "    Escp + A: to insert a cell before\n",
    "    Escp + B: to insert a cell after\n",
    "    Escp + DD: to delete the cell you were in"
   ]
  },
  {
   "cell_type": "code",
   "execution_count": 1,
   "metadata": {},
   "outputs": [],
   "source": [
    "# To display the full output in a cell (not only the last one)\n",
    "from IPython.core.interactiveshell import InteractiveShell  \n",
    "InteractiveShell.ast_node_interactivity = \"all\" \n",
    "#To revert to the original setting :\n",
    "# InteractiveShell.ast_node_interactivity = \"last_expr\""
   ]
  },
  {
   "cell_type": "markdown",
   "metadata": {},
   "source": [
    "# Why Python?"
   ]
  },
  {
   "cell_type": "raw",
   "metadata": {},
   "source": [
    "1-Open source\n",
    "2-Syntax simple: In one line you can write a code:\n",
    "            Python:\n",
    "            print(\"Hello World\")\n",
    "            Java:\n",
    "                public class Hello\n",
    "                {\n",
    "                    public static void main(String argv[])\n",
    "                    {\n",
    "                        System.out.printIn(\"Hello World\");\n",
    "                    }\n",
    "                }\n",
    "3-Very large community\n",
    "4-Different packages for Data Science/ML/DL: pandas, numpy, matplotlib, seabron, Scikit-learn,..."
   ]
  },
  {
   "cell_type": "raw",
   "metadata": {},
   "source": [
    "Scripting language != Compiled language"
   ]
  },
  {
   "cell_type": "markdown",
   "metadata": {},
   "source": [
    "Install Python via Anaconda distribution\n",
    "    https://www.anaconda.com/distribution/"
   ]
  },
  {
   "cell_type": "markdown",
   "metadata": {},
   "source": [
    "# Operators"
   ]
  },
  {
   "cell_type": "markdown",
   "metadata": {},
   "source": [
    "Different types of Operators"
   ]
  },
  {
   "cell_type": "markdown",
   "metadata": {},
   "source": [
    "## Arithmetic operator: Addition, substraction, multiplication, division, Others(//,%)"
   ]
  },
  {
   "cell_type": "code",
   "execution_count": null,
   "metadata": {},
   "outputs": [],
   "source": [
    "3+5"
   ]
  },
  {
   "cell_type": "code",
   "execution_count": null,
   "metadata": {},
   "outputs": [],
   "source": [
    "\"Hello \"+\" \"+\"5\""
   ]
  },
  {
   "cell_type": "code",
   "execution_count": null,
   "metadata": {},
   "outputs": [],
   "source": [
    "3*2.1"
   ]
  },
  {
   "cell_type": "code",
   "execution_count": null,
   "metadata": {},
   "outputs": [],
   "source": [
    "\"Hello \"*5\n",
    "a=2\n",
    "a"
   ]
  },
  {
   "cell_type": "markdown",
   "metadata": {},
   "source": [
    "## Conditional/Comparison operator: >,>=,==,<,<=,!="
   ]
  },
  {
   "cell_type": "code",
   "execution_count": 3,
   "metadata": {},
   "outputs": [
    {
     "data": {
      "text/plain": [
       "True"
      ]
     },
     "execution_count": 3,
     "metadata": {},
     "output_type": "execute_result"
    }
   ],
   "source": [
    "3>1"
   ]
  },
  {
   "cell_type": "code",
   "execution_count": 4,
   "metadata": {},
   "outputs": [
    {
     "data": {
      "text/plain": [
       "False"
      ]
     },
     "execution_count": 4,
     "metadata": {},
     "output_type": "execute_result"
    }
   ],
   "source": [
    "1<1"
   ]
  },
  {
   "cell_type": "markdown",
   "metadata": {},
   "source": [
    "## Logical operator: and, or, not"
   ]
  },
  {
   "cell_type": "code",
   "execution_count": 5,
   "metadata": {},
   "outputs": [
    {
     "data": {
      "text/plain": [
       "True"
      ]
     },
     "execution_count": 5,
     "metadata": {},
     "output_type": "execute_result"
    }
   ],
   "source": [
    "(3==3) and (1!=2)"
   ]
  },
  {
   "cell_type": "markdown",
   "metadata": {},
   "source": [
    "# Variables and variable naming conventions"
   ]
  },
  {
   "cell_type": "markdown",
   "metadata": {},
   "source": [
    "## Variables assignment:"
   ]
  },
  {
   "cell_type": "code",
   "execution_count": 6,
   "metadata": {},
   "outputs": [
    {
     "name": "stdout",
     "output_type": "stream",
     "text": [
      "a= 3 Hello\n",
      "b= 2.5\n",
      "c= 3\n",
      "new c= 5\n"
     ]
    }
   ],
   "source": [
    "a=3\n",
    "b=2.5\n",
    "print(\"a=\",a,\"Hello\")\n",
    "print(\"b=\",b)\n",
    "c=a\n",
    "print(\"c=\",c)\n",
    "c=5\n",
    "print(\"new c=\",c)"
   ]
  },
  {
   "cell_type": "markdown",
   "metadata": {},
   "source": [
    "## Some rules:"
   ]
  },
  {
   "cell_type": "markdown",
   "metadata": {},
   "source": [
    "Python is case sensitive: b, B are different\n",
    "Can't start the name of variable with special character, except underscore, neither with a number"
   ]
  },
  {
   "cell_type": "markdown",
   "metadata": {},
   "source": [
    "# Data types"
   ]
  },
  {
   "cell_type": "raw",
   "metadata": {},
   "source": [
    "Int, float, boolean, String"
   ]
  },
  {
   "cell_type": "code",
   "execution_count": 7,
   "metadata": {},
   "outputs": [
    {
     "data": {
      "text/plain": [
       "int"
      ]
     },
     "execution_count": 7,
     "metadata": {},
     "output_type": "execute_result"
    }
   ],
   "source": [
    "a=2\n",
    "type(a)"
   ]
  },
  {
   "cell_type": "code",
   "execution_count": 8,
   "metadata": {},
   "outputs": [
    {
     "data": {
      "text/plain": [
       "float"
      ]
     },
     "execution_count": 8,
     "metadata": {},
     "output_type": "execute_result"
    }
   ],
   "source": [
    "b=2.1\n",
    "type(b)"
   ]
  },
  {
   "cell_type": "markdown",
   "metadata": {},
   "source": [
    "# Conditional statements"
   ]
  },
  {
   "cell_type": "markdown",
   "metadata": {},
   "source": [
    "## Single Condition"
   ]
  },
  {
   "cell_type": "raw",
   "metadata": {},
   "source": [
    "if (condition):\n",
    "    statement 1\n",
    "else:\n",
    "    statement 2"
   ]
  },
  {
   "cell_type": "code",
   "execution_count": 9,
   "metadata": {},
   "outputs": [
    {
     "name": "stdout",
     "output_type": "stream",
     "text": [
      "a!=1\n"
     ]
    }
   ],
   "source": [
    "a=2\n",
    "\n",
    "if a==1:\n",
    "    print(\"OK\")\n",
    "else:\n",
    "    print(\"a!=1\")"
   ]
  },
  {
   "cell_type": "markdown",
   "metadata": {},
   "source": [
    "#### Multiple condition"
   ]
  },
  {
   "cell_type": "raw",
   "metadata": {},
   "source": [
    "if (condition1):\n",
    "    statement 1\n",
    "elif (condition2):\n",
    "    statement 2\n",
    "else:\n",
    "    statement 3"
   ]
  },
  {
   "cell_type": "code",
   "execution_count": 10,
   "metadata": {},
   "outputs": [
    {
     "name": "stdout",
     "output_type": "stream",
     "text": [
      "a < 3\n"
     ]
    }
   ],
   "source": [
    "a=2\n",
    "if a > 10:\n",
    "    print(\"a > 10\")\n",
    "elif a > 3:\n",
    "    print(\"a between 3 and 10\")\n",
    "else:\n",
    "    print(\"a < 3\")"
   ]
  },
  {
   "cell_type": "code",
   "execution_count": 11,
   "metadata": {},
   "outputs": [
    {
     "name": "stdout",
     "output_type": "stream",
     "text": [
      "a is equal to 2\n"
     ]
    }
   ],
   "source": [
    "a=2\n",
    "if a==2:\n",
    "    print(\"a is equal to 2\")\n",
    "else:\n",
    "    print(\"a!=2\")"
   ]
  },
  {
   "cell_type": "markdown",
   "metadata": {},
   "source": [
    "# Looping statements"
   ]
  },
  {
   "cell_type": "raw",
   "metadata": {},
   "source": [
    "for (condition):\n",
    "    statement\n",
    "\n",
    "in Javascript:\n",
    "for(i=0;i<=5;i++){\n",
    "    console.log(i)\n",
    "}"
   ]
  },
  {
   "cell_type": "code",
   "execution_count": 12,
   "metadata": {},
   "outputs": [
    {
     "name": "stdout",
     "output_type": "stream",
     "text": [
      "0\n",
      "1\n",
      "2\n",
      "3\n",
      "4\n"
     ]
    }
   ],
   "source": [
    "for i in range(0,5):\n",
    "    print(i)"
   ]
  },
  {
   "cell_type": "code",
   "execution_count": 13,
   "metadata": {},
   "outputs": [
    {
     "name": "stdout",
     "output_type": "stream",
     "text": [
      "0\n",
      "3\n"
     ]
    }
   ],
   "source": [
    "for i in range(0,5,3):\n",
    "    print(i)"
   ]
  },
  {
   "cell_type": "markdown",
   "metadata": {},
   "source": [
    "# Functions"
   ]
  },
  {
   "cell_type": "raw",
   "metadata": {},
   "source": [
    "1-Built-in function: like print(), range(),...\n",
    "2-Defined Function: Pnl_calculation()"
   ]
  },
  {
   "cell_type": "markdown",
   "metadata": {},
   "source": [
    "## Syntax for defined function"
   ]
  },
  {
   "cell_type": "code",
   "execution_count": 14,
   "metadata": {},
   "outputs": [],
   "source": [
    "def function_name(arguments):\n",
    "    statement1\n",
    "    statement2\n",
    "    ...\n",
    "    return statement"
   ]
  },
  {
   "cell_type": "code",
   "execution_count": 15,
   "metadata": {},
   "outputs": [],
   "source": [
    "def au_carre(x):\n",
    "    return x**2"
   ]
  },
  {
   "cell_type": "code",
   "execution_count": 16,
   "metadata": {
    "scrolled": true
   },
   "outputs": [
    {
     "data": {
      "text/plain": [
       "16"
      ]
     },
     "execution_count": 16,
     "metadata": {},
     "output_type": "execute_result"
    }
   ],
   "source": [
    "au_carre(4)"
   ]
  },
  {
   "cell_type": "code",
   "execution_count": 17,
   "metadata": {},
   "outputs": [],
   "source": [
    "def multiplication(x,y):\n",
    "    return x*y"
   ]
  },
  {
   "cell_type": "code",
   "execution_count": 18,
   "metadata": {},
   "outputs": [
    {
     "data": {
      "text/plain": [
       "8"
      ]
     },
     "execution_count": 18,
     "metadata": {},
     "output_type": "execute_result"
    }
   ],
   "source": [
    "multiplication(2,4)"
   ]
  },
  {
   "cell_type": "code",
   "execution_count": 19,
   "metadata": {},
   "outputs": [],
   "source": [
    "def multiplication(x=2,y=3):\n",
    "    return x*y"
   ]
  },
  {
   "cell_type": "code",
   "execution_count": 20,
   "metadata": {},
   "outputs": [
    {
     "data": {
      "text/plain": [
       "6"
      ]
     },
     "execution_count": 20,
     "metadata": {},
     "output_type": "execute_result"
    }
   ],
   "source": [
    "multiplication()"
   ]
  },
  {
   "cell_type": "code",
   "execution_count": 21,
   "metadata": {},
   "outputs": [
    {
     "data": {
      "text/plain": [
       "8"
      ]
     },
     "execution_count": 21,
     "metadata": {},
     "output_type": "execute_result"
    }
   ],
   "source": [
    "multiplication(4,2)"
   ]
  },
  {
   "cell_type": "markdown",
   "metadata": {},
   "source": [
    "## EXERCICE"
   ]
  },
  {
   "cell_type": "raw",
   "metadata": {},
   "source": [
    "create a simple function:\n",
    "    1- Calculate the cube of x\n",
    "    2- Test the function on several values\n",
    "\n",
    "create a function : \n",
    "    1- if x is less than 10, it calculates the square, else it calculates the cube.\n",
    "    2- Test the function on several values\n",
    "    \n",
    "create a function (do it with a loop):\n",
    "    1- return the product of all integer until 10 if x<=10, else if x<=20 return the sum until 20, else return x/20\n",
    "    2- Test the function on several values\n",
    "    "
   ]
  },
  {
   "cell_type": "code",
   "execution_count": 22,
   "metadata": {},
   "outputs": [
    {
     "name": "stdout",
     "output_type": "stream",
     "text": [
      "product 3628800\n",
      "sum 56\n"
     ]
    }
   ],
   "source": [
    "product=1\n",
    "for i in range(1,11):\n",
    "    product=i*product\n",
    "print(\"product\",product)\n",
    "\n",
    "count=1\n",
    "for i in range(1,11):\n",
    "    count=i+count\n",
    "print(\"sum\",count)"
   ]
  },
  {
   "cell_type": "markdown",
   "metadata": {},
   "source": [
    "# Data Structure"
   ]
  },
  {
   "cell_type": "raw",
   "metadata": {},
   "source": [
    "data types: int, float, string, boolean"
   ]
  },
  {
   "cell_type": "raw",
   "metadata": {},
   "source": [
    "different data types can be stored in the same structure: flexible\n",
    "    1-List\n",
    "    2-Dict"
   ]
  },
  {
   "cell_type": "markdown",
   "metadata": {},
   "source": [
    "# List"
   ]
  },
  {
   "cell_type": "raw",
   "metadata": {},
   "source": [
    "a- What is a list?\n",
    "b- How to create a list?\n",
    "c- Accessing elements from a list\n",
    "d- Slicing a list (=accessing a range of list)\n",
    "e- Changing elements in an existing list\n",
    "f- Adding elements to an existing list: append(),extend(),insert()\n",
    "g- Deleting elements of a list: del, remove(),pop(),clear()\n",
    "h- Getting the index of the first element matched: index()\n",
    "i- Couting the number of occurrence of an item: count()\n",
    "j- Sorting the list in ascending order: sort()\n",
    "k- Reversing the order of the items in the list: reverse()\n",
    "l- Copying a list: copy()\n",
    "m- List Comprehension: way of creating a list\n",
    "n- Testing for existing item in a list\n",
    "o- Iterating trough a list\n",
    "p- Build-in functions"
   ]
  },
  {
   "cell_type": "markdown",
   "metadata": {},
   "source": [
    "## a- What is a list?"
   ]
  },
  {
   "cell_type": "raw",
   "metadata": {},
   "source": [
    "==> is a sequence of variables"
   ]
  },
  {
   "cell_type": "markdown",
   "metadata": {},
   "source": [
    "## b- How to create a list?"
   ]
  },
  {
   "cell_type": "code",
   "execution_count": 23,
   "metadata": {},
   "outputs": [
    {
     "name": "stdout",
     "output_type": "stream",
     "text": [
      "my_list []\n",
      "<class 'list'>\n"
     ]
    }
   ],
   "source": [
    "my_list=[]\n",
    "print(\"my_list\",my_list)\n",
    "print(type(my_list))"
   ]
  },
  {
   "cell_type": "code",
   "execution_count": 24,
   "metadata": {},
   "outputs": [
    {
     "name": "stdout",
     "output_type": "stream",
     "text": [
      "my_list [1, 2, 3]\n"
     ]
    }
   ],
   "source": [
    "my_list=[1,2,3]\n",
    "print(\"my_list\",my_list)"
   ]
  },
  {
   "cell_type": "code",
   "execution_count": 25,
   "metadata": {},
   "outputs": [
    {
     "name": "stdout",
     "output_type": "stream",
     "text": [
      "my_list [1, 'Hello', 3.2, 'again again again ']\n"
     ]
    }
   ],
   "source": [
    "#a mix of datatypes\n",
    "my_list=[1,\"Hello\",3.2,\"again \"*3]\n",
    "print(\"my_list\",my_list)"
   ]
  },
  {
   "cell_type": "code",
   "execution_count": 26,
   "metadata": {},
   "outputs": [
    {
     "name": "stdout",
     "output_type": "stream",
     "text": [
      "['world', [2, 'Hello', 10]]\n"
     ]
    }
   ],
   "source": [
    "#nested list: a list having another list as element\n",
    "my_list=['world',[2,\"Hello\",10]]\n",
    "print(my_list)"
   ]
  },
  {
   "cell_type": "markdown",
   "metadata": {},
   "source": [
    "## c- Accessing elements from a list"
   ]
  },
  {
   "cell_type": "code",
   "execution_count": 27,
   "metadata": {},
   "outputs": [
    {
     "name": "stdout",
     "output_type": "stream",
     "text": [
      "index 0 1\n",
      "index 2 3.2\n",
      "index -1 again again again \n"
     ]
    }
   ],
   "source": [
    "#Positive indexing\n",
    "my_list=[1,\"Hello\",3.2,\"again \"*3]\n",
    "print(\"index 0\",my_list[0])\n",
    "print(\"index 2\",my_list[2])\n",
    "\n",
    "#Negative indexing\n",
    "print(\"index -1\",my_list[-1])"
   ]
  },
  {
   "cell_type": "code",
   "execution_count": 28,
   "metadata": {},
   "outputs": [
    {
     "data": {
      "text/plain": [
       "4"
      ]
     },
     "execution_count": 28,
     "metadata": {},
     "output_type": "execute_result"
    }
   ],
   "source": [
    "len(my_list)"
   ]
  },
  {
   "cell_type": "code",
   "execution_count": 29,
   "metadata": {},
   "outputs": [
    {
     "name": "stdout",
     "output_type": "stream",
     "text": [
      "world\n",
      "[2, 'Hello', 10]\n",
      "Hello\n"
     ]
    }
   ],
   "source": [
    "#nested list\n",
    "my_list=['world',[2,\"Hello\",10]]\n",
    "print(my_list[0])\n",
    "print(my_list[1])\n",
    "print(my_list[1][1])"
   ]
  },
  {
   "cell_type": "markdown",
   "metadata": {},
   "source": [
    "## d- Slicing a list (=accessing a range of list)"
   ]
  },
  {
   "cell_type": "code",
   "execution_count": 30,
   "metadata": {},
   "outputs": [
    {
     "data": {
      "text/plain": [
       "['bla', 'hello']"
      ]
     },
     "execution_count": 30,
     "metadata": {},
     "output_type": "execute_result"
    }
   ],
   "source": [
    "my_list=[\"bla\",\"hello\",\"world\",'python']\n",
    "my_list[:2]"
   ]
  },
  {
   "cell_type": "code",
   "execution_count": 31,
   "metadata": {},
   "outputs": [
    {
     "data": {
      "text/plain": [
       "['hello', 'world']"
      ]
     },
     "execution_count": 31,
     "metadata": {},
     "output_type": "execute_result"
    }
   ],
   "source": [
    "my_list[1:3]"
   ]
  },
  {
   "cell_type": "code",
   "execution_count": 32,
   "metadata": {},
   "outputs": [
    {
     "data": {
      "text/plain": [
       "['world', 'python']"
      ]
     },
     "execution_count": 32,
     "metadata": {},
     "output_type": "execute_result"
    }
   ],
   "source": [
    "my_list[-2:]"
   ]
  },
  {
   "cell_type": "markdown",
   "metadata": {},
   "source": [
    "## e- Changing elements in an existing list"
   ]
  },
  {
   "cell_type": "code",
   "execution_count": 33,
   "metadata": {},
   "outputs": [
    {
     "name": "stdout",
     "output_type": "stream",
     "text": [
      "['bla', 'hello', 'world', 'python']\n",
      "['not bla', 'hello', 'world', 'python']\n",
      "['not bla', 2.0, 5, 'python']\n"
     ]
    }
   ],
   "source": [
    "my_list=[\"bla\",\"hello\",\"world\",'python']\n",
    "print(my_list)\n",
    "my_list[0]=\"not bla\"\n",
    "print(my_list)\n",
    "my_list[1:3]=[2.0,5]\n",
    "print(my_list)"
   ]
  },
  {
   "cell_type": "markdown",
   "metadata": {},
   "source": [
    "## f- Adding elements to an existing list"
   ]
  },
  {
   "cell_type": "markdown",
   "metadata": {},
   "source": [
    "##### using append and extend"
   ]
  },
  {
   "cell_type": "code",
   "execution_count": 34,
   "metadata": {},
   "outputs": [
    {
     "name": "stdout",
     "output_type": "stream",
     "text": [
      "[2, 3, 4]\n",
      "[2, 3, 4, 6]\n"
     ]
    }
   ],
   "source": [
    "#Add an element\n",
    "my_list=[2,3,4]\n",
    "print(my_list)\n",
    "my_list.append(6)\n",
    "print(my_list)"
   ]
  },
  {
   "cell_type": "code",
   "execution_count": 35,
   "metadata": {},
   "outputs": [
    {
     "name": "stdout",
     "output_type": "stream",
     "text": [
      "[2, 3, 4]\n",
      "[2, 3, 4, [2, 3]]\n"
     ]
    }
   ],
   "source": [
    "#Add an element\n",
    "my_list=[2,3,4]\n",
    "print(my_list)\n",
    "my_list.append([2,3])\n",
    "print(my_list)"
   ]
  },
  {
   "cell_type": "code",
   "execution_count": 36,
   "metadata": {},
   "outputs": [
    {
     "data": {
      "text/plain": [
       "[[2, 3], [4, 5]]"
      ]
     },
     "execution_count": 36,
     "metadata": {},
     "output_type": "execute_result"
    }
   ],
   "source": [
    "[[2,3],[4,5]]"
   ]
  },
  {
   "cell_type": "code",
   "execution_count": 37,
   "metadata": {},
   "outputs": [
    {
     "name": "stdout",
     "output_type": "stream",
     "text": [
      "[2, 5, 7]\n",
      "[2, 5, 7, 10, 20]\n"
     ]
    }
   ],
   "source": [
    "#Add a list\n",
    "my_list=[2,5,7]\n",
    "print(my_list)\n",
    "my_list.extend([10,20])\n",
    "print(my_list)"
   ]
  },
  {
   "cell_type": "raw",
   "metadata": {},
   "source": [
    "create a empty list ==> my_mlist\n",
    "use range(0,5) to append my_list"
   ]
  },
  {
   "cell_type": "markdown",
   "metadata": {},
   "source": [
    "##### ==> Important: append and extend modify the list (object)"
   ]
  },
  {
   "cell_type": "markdown",
   "metadata": {},
   "source": [
    "##### using concatenation"
   ]
  },
  {
   "cell_type": "code",
   "execution_count": 38,
   "metadata": {},
   "outputs": [
    {
     "name": "stdout",
     "output_type": "stream",
     "text": [
      "[2, 5, 7, 10, 20, 100, 200]\n",
      "[2, 5, 7, 10, 20, 500, 500, 500, 500, 500]\n"
     ]
    }
   ],
   "source": [
    "#Concatenation of lists: using the operators +\n",
    "print(my_list+[100,200])\n",
    "\n",
    "#Concatenation of lists: using the operators + and others like *\n",
    "print(my_list+[500]*5)"
   ]
  },
  {
   "cell_type": "markdown",
   "metadata": {},
   "source": [
    "##### ==> Important: concatenations do not modify the list (object) ==> must re-assign the list to get it modified: my_list=..."
   ]
  },
  {
   "cell_type": "markdown",
   "metadata": {},
   "source": [
    "##### using insert"
   ]
  },
  {
   "cell_type": "code",
   "execution_count": 39,
   "metadata": {},
   "outputs": [
    {
     "name": "stdout",
     "output_type": "stream",
     "text": [
      "[3, 4]\n",
      "[3, 10, 4]\n",
      "[20, 3, 10, 4]\n",
      "[20, 10, 3, 10, 4]\n",
      "[20, ['Hello', 'World'], 10, 3, 10, 4]\n",
      "[20, 'Hello', 'World', ['Hello', 'World'], 10, 3, 10, 4]\n"
     ]
    }
   ],
   "source": [
    "my_list=[3,4]\n",
    "print(my_list)\n",
    "\n",
    "my_list.insert(1,10)\n",
    "print(my_list)\n",
    "\n",
    "my_list.insert(0,20)\n",
    "print(my_list)\n",
    "\n",
    "my_list.insert(1,10)\n",
    "print(my_list)\n",
    "\n",
    "my_list.insert(1,[\"Hello\",\"World\"])\n",
    "print(my_list)\n",
    "\n",
    "my_list[1:1]=[\"Hello\",\"World\"]\n",
    "print(my_list)"
   ]
  },
  {
   "cell_type": "markdown",
   "metadata": {},
   "source": [
    "## g- Deleting elements of a list"
   ]
  },
  {
   "cell_type": "markdown",
   "metadata": {},
   "source": [
    "##### using del"
   ]
  },
  {
   "cell_type": "code",
   "execution_count": 40,
   "metadata": {},
   "outputs": [
    {
     "name": "stdout",
     "output_type": "stream",
     "text": [
      "[1, 2, 6, 4, 10]\n",
      "[1, 6, 4, 10]\n",
      "[1, 6, 10]\n"
     ]
    }
   ],
   "source": [
    "my_list=[1,2,6,4,10]\n",
    "print(my_list)\n",
    "\n",
    "#delete one item\n",
    "del my_list[1]\n",
    "print(my_list)\n",
    "\n",
    "#delete multiple items\n",
    "del my_list[2:3]\n",
    "print(my_list)\n",
    "\n",
    "# #delete the entire list\n",
    "del my_list\n",
    "#  if you try a print(my_list), you will have a message error: name 'my_list' is not defined"
   ]
  },
  {
   "cell_type": "markdown",
   "metadata": {},
   "source": [
    "##### using remove or pop"
   ]
  },
  {
   "cell_type": "code",
   "execution_count": 41,
   "metadata": {},
   "outputs": [
    {
     "name": "stdout",
     "output_type": "stream",
     "text": [
      "[1, 2, 6, 4, 10, 'Hello']\n",
      "[1, 6, 4, 10, 'Hello']\n",
      "what? None\n",
      "[1, 6, 4, 10]\n",
      "value of the item removed 4\n",
      "[1, 6, 10]\n",
      "value of the item removed 10\n",
      "[1, 6]\n",
      "[]\n"
     ]
    }
   ],
   "source": [
    "my_list=[1,2,6,4,10,\"Hello\"]\n",
    "print(my_list)\n",
    "\n",
    "#removing a giving item by giving it's value (it's not indexing)\n",
    "my_list.remove(2)\n",
    "print(my_list)\n",
    "\n",
    "# my_list.remove(\"Hello\")\n",
    "print(\"what?\",my_list.remove(\"Hello\"))\n",
    "print(my_list)\n",
    "\n",
    "#removing a giving item by giving it's index\n",
    "print(\"value of the item removed\", my_list.pop(2))\n",
    "print(my_list)\n",
    "\n",
    "print(\"value of the item removed\", my_list.pop()) #it removes the last item\n",
    "print(my_list)\n",
    "\n",
    "my_list.clear()\n",
    "print(my_list)\n",
    "## Important: clear (delete items in the list, but keep the list) is different from del (delete definitly the list)"
   ]
  },
  {
   "cell_type": "markdown",
   "metadata": {},
   "source": [
    "##### Exercice"
   ]
  },
  {
   "cell_type": "raw",
   "metadata": {},
   "source": [
    "create list range 0,5\n",
    "insert at index 2 a value 10\n",
    "insert at the end list [21,18]\n",
    "delete the first element\n",
    "remove the last element\n",
    "delete the list\n",
    "clear the list"
   ]
  },
  {
   "cell_type": "code",
   "execution_count": 42,
   "metadata": {},
   "outputs": [
    {
     "data": {
      "text/plain": [
       "[1, 3, 4, 2, 5, 2]"
      ]
     },
     "execution_count": 42,
     "metadata": {},
     "output_type": "execute_result"
    }
   ],
   "source": [
    "list_=[1,2,3,4,2,5,2]\n",
    "list_.remove(2)\n",
    "list_"
   ]
  },
  {
   "cell_type": "markdown",
   "metadata": {},
   "source": [
    "## h- getting the index of the first element matched: index()"
   ]
  },
  {
   "cell_type": "code",
   "execution_count": 43,
   "metadata": {},
   "outputs": [
    {
     "data": {
      "text/plain": [
       "2"
      ]
     },
     "execution_count": 43,
     "metadata": {},
     "output_type": "execute_result"
    }
   ],
   "source": [
    "my_list=[1,10,-6,2,-6]\n",
    "my_list.index(-6)"
   ]
  },
  {
   "cell_type": "markdown",
   "metadata": {},
   "source": [
    "## i- couting the number of occurrence of an item: count()"
   ]
  },
  {
   "cell_type": "code",
   "execution_count": 44,
   "metadata": {},
   "outputs": [
    {
     "data": {
      "text/plain": [
       "2"
      ]
     },
     "execution_count": 44,
     "metadata": {},
     "output_type": "execute_result"
    }
   ],
   "source": [
    "my_list=[1,10,-6,2,-6]\n",
    "my_list.count(-6)"
   ]
  },
  {
   "cell_type": "markdown",
   "metadata": {},
   "source": [
    "## j- Sorting the list in ascending order: sort()"
   ]
  },
  {
   "cell_type": "code",
   "execution_count": 45,
   "metadata": {},
   "outputs": [
    {
     "name": "stdout",
     "output_type": "stream",
     "text": [
      "[1, 10, -6, 2, -6]\n",
      "[-6, -6, 1, 2, 10]\n"
     ]
    }
   ],
   "source": [
    "my_list=[1,10,-6,2,-6]\n",
    "print(my_list)\n",
    "my_list.sort()\n",
    "print(my_list)"
   ]
  },
  {
   "cell_type": "markdown",
   "metadata": {},
   "source": [
    "## k- Reversing the order of the items in the list: reverse()"
   ]
  },
  {
   "cell_type": "code",
   "execution_count": 46,
   "metadata": {},
   "outputs": [
    {
     "name": "stdout",
     "output_type": "stream",
     "text": [
      "[1, 10, -6, 2, -6]\n",
      "[-6, 2, -6, 10, 1]\n"
     ]
    }
   ],
   "source": [
    "my_list=[1,10,-6,2,-6]\n",
    "print(my_list)\n",
    "\n",
    "my_list.reverse()\n",
    "print(my_list)"
   ]
  },
  {
   "cell_type": "markdown",
   "metadata": {},
   "source": [
    "## l- Copying a list: copy()"
   ]
  },
  {
   "cell_type": "code",
   "execution_count": 47,
   "metadata": {},
   "outputs": [
    {
     "name": "stdout",
     "output_type": "stream",
     "text": [
      "initial list         [1, 10, -6, 2, -6]\n",
      "copied list          [1, 10, -6, 2, -6]\n",
      "initial list modfied [-6, 2, -6, 10, 1]\n",
      "copied list          [1, 10, -6, 2, -6]\n"
     ]
    }
   ],
   "source": [
    "my_list=[1,10,-6,2,-6]\n",
    "print(\"initial list        \",my_list)\n",
    "\n",
    "copied_list=my_list.copy()\n",
    "print(\"copied list         \",copied_list)\n",
    "\n",
    "my_list.reverse()\n",
    "print(\"initial list modfied\", my_list)\n",
    "\n",
    "print(\"copied list         \", copied_list)\n"
   ]
  },
  {
   "cell_type": "markdown",
   "metadata": {},
   "source": [
    "## m- List Comprehension: way of creating a list"
   ]
  },
  {
   "cell_type": "code",
   "execution_count": 48,
   "metadata": {},
   "outputs": [],
   "source": [
    "import numpy as np"
   ]
  },
  {
   "cell_type": "code",
   "execution_count": 49,
   "metadata": {},
   "outputs": [
    {
     "name": "stdout",
     "output_type": "stream",
     "text": [
      "[0.0, 1.0, 1.4142135623730951, 1.7320508075688772, 2.0]\n"
     ]
    }
   ],
   "source": [
    "my_list=[np.sqrt(x) for x in range(5)]\n",
    "print(my_list)"
   ]
  },
  {
   "cell_type": "markdown",
   "metadata": {},
   "source": [
    "##### comparaison with the equivalent code"
   ]
  },
  {
   "cell_type": "code",
   "execution_count": 50,
   "metadata": {},
   "outputs": [
    {
     "name": "stdout",
     "output_type": "stream",
     "text": [
      "[0.0, 1.0, 1.4142135623730951, 1.7320508075688772, 2.0]\n"
     ]
    }
   ],
   "source": [
    "my_list=[]\n",
    "for x in range(5):\n",
    "    my_list.append(np.sqrt(x))\n",
    "print(my_list)"
   ]
  },
  {
   "cell_type": "code",
   "execution_count": 51,
   "metadata": {},
   "outputs": [
    {
     "name": "stdout",
     "output_type": "stream",
     "text": [
      "[100, 16, 64, 9]\n"
     ]
    }
   ],
   "source": [
    "list_1=[10,4,8,3]\n",
    "my_list=[x**2 for x in list_1]\n",
    "print(my_list)"
   ]
  },
  {
   "cell_type": "markdown",
   "metadata": {},
   "source": [
    "## n- Testing for existing item in a list"
   ]
  },
  {
   "cell_type": "code",
   "execution_count": 52,
   "metadata": {},
   "outputs": [
    {
     "name": "stdout",
     "output_type": "stream",
     "text": [
      "Ok\n"
     ]
    }
   ],
   "source": [
    "my_list=[1,10,-6,2,-0.2]\n",
    "if -6 in my_list:\n",
    "    print(\"Ok\")"
   ]
  },
  {
   "cell_type": "markdown",
   "metadata": {},
   "source": [
    "## o- Iterating trough a list"
   ]
  },
  {
   "cell_type": "code",
   "execution_count": 53,
   "metadata": {
    "scrolled": true
   },
   "outputs": [
    {
     "name": "stdout",
     "output_type": "stream",
     "text": [
      "my elem is  1\n",
      "my elem is  10\n",
      "my elem is  -6\n",
      "my elem is  2\n",
      "my elem is  -0.2\n"
     ]
    }
   ],
   "source": [
    "my_list=[1,10,-6,2,-0.2]\n",
    "for elem in my_list:\n",
    "    print(\"my elem is \", elem)"
   ]
  },
  {
   "cell_type": "markdown",
   "metadata": {},
   "source": [
    "## p- Build-in functions"
   ]
  },
  {
   "cell_type": "code",
   "execution_count": 54,
   "metadata": {},
   "outputs": [
    {
     "name": "stdout",
     "output_type": "stream",
     "text": [
      "all True\n",
      "all True\n",
      "any True\n",
      "enumerate\n",
      "my_list [10, 5, 3, 8]\n",
      "index is= 0  the value= 10\n",
      "index is= 1  the value= 5\n",
      "index is= 2  the value= 3\n",
      "index is= 3  the value= 8\n",
      "tuple of index and value= (0, 10)\n",
      "tuple of index and value= (1, 5)\n",
      "tuple of index and value= (2, 3)\n",
      "tuple of index and value= (3, 8)\n",
      "len 4\n",
      "max 10\n",
      "min 3\n",
      "sorted [3, 5, 8, 10]\n",
      "original list [10, 5, 3, 8]\n",
      "sum 26\n"
     ]
    }
   ],
   "source": [
    "my_list=[10,5,3,8]\n",
    "print(\"all\",all(my_list))\n",
    "\n",
    "my_set=[0,5,3,8]\n",
    "print(\"all\",all(my_list))\n",
    "\n",
    "my_set=[0,5,3,8]\n",
    "print(\"any\",any(my_list))\n",
    "\n",
    "print(\"enumerate\")\n",
    "my_list=[10,5,3,8]\n",
    "print(\"my_list\",my_list)\n",
    "for i,value in enumerate(my_list):\n",
    "    print(\"index is=\",i, \" the value=\",value)\n",
    "    \n",
    "for tuple_i_v in enumerate(my_list):\n",
    "    print(\"tuple of index and value=\",tuple_i_v)\n",
    "    \n",
    "my_list=[10,5,3,8]\n",
    "print(\"len\",len(my_list))\n",
    "\n",
    "print(\"max\",max(my_list))\n",
    "\n",
    "print(\"min\",min(my_list))\n",
    "\n",
    "print(\"sorted\",sorted(my_list)) #==> It does not modify the original list\n",
    "print(\"original list\",my_list)\n",
    "\n",
    "print(\"sum\",sum(my_list))"
   ]
  },
  {
   "cell_type": "markdown",
   "metadata": {},
   "source": [
    "## EXERCICE"
   ]
  },
  {
   "cell_type": "markdown",
   "metadata": {},
   "source": [
    "create a list with range build-in function from -10 to 20\n",
    "create another list for the previous one if item in the list % 2 =0 \n",
    "==> Get the item and it's index\n",
    "reverse the order of the this new list\n",
    "get the maximum and the minimum, \n",
    "count number of item in the list\n",
    "sum the absolute value of this list"
   ]
  },
  {
   "cell_type": "code",
   "execution_count": 55,
   "metadata": {},
   "outputs": [],
   "source": [
    "# import numpy as np"
   ]
  },
  {
   "cell_type": "code",
   "execution_count": 56,
   "metadata": {},
   "outputs": [],
   "source": [
    "list_test=[i for i in range(-10,20)]"
   ]
  },
  {
   "cell_type": "code",
   "execution_count": 57,
   "metadata": {},
   "outputs": [
    {
     "data": {
      "text/plain": [
       "[-10, -8, -6, -4, -2, 0, 2, 4, 6, 8, 10, 12, 14, 16, 18]"
      ]
     },
     "execution_count": 57,
     "metadata": {},
     "output_type": "execute_result"
    },
    {
     "name": "stdout",
     "output_type": "stream",
     "text": [
      "[18, 16, 14, 12, 10, 8, 6, 4, 2, 0, -2, -4, -6, -8, -10]\n"
     ]
    },
    {
     "data": {
      "text/plain": [
       "245"
      ]
     },
     "execution_count": 57,
     "metadata": {},
     "output_type": "execute_result"
    }
   ],
   "source": [
    "new_list=[]\n",
    "list_index=[]\n",
    "for i,item in enumerate(list_test):\n",
    "    if item%2==0:\n",
    "        new_list.append(item)\n",
    "        list_index.append(i)\n",
    "new_list\n",
    "new_list.reverse()\n",
    "print(new_list)\n",
    "sum(map(abs,list_test))"
   ]
  },
  {
   "cell_type": "markdown",
   "metadata": {},
   "source": [
    "# Set"
   ]
  },
  {
   "cell_type": "raw",
   "metadata": {},
   "source": [
    "Set = is unordered collection of items (meaning that indexing or slicing have no meaning, accessing elements not possible). Each item must be unique (no duplicates), and must be immutable (which cannont be changed). (immutable==immuable). For example a list, or dictionnary cannot be elements of a set.\n",
    "The set itself is mutable (we can add, remove elements from a set).\n",
    "Sets are used to perform mathematical operations like union, intersection, difference, symmetric_difference"
   ]
  },
  {
   "cell_type": "markdown",
   "metadata": {},
   "source": [
    "## a- Creating a set"
   ]
  },
  {
   "cell_type": "code",
   "execution_count": 58,
   "metadata": {},
   "outputs": [
    {
     "name": "stdout",
     "output_type": "stream",
     "text": [
      "{2, 6.3, 'Hello', 'World', -40}\n",
      "{2, 6.3, 'Hello', 'World', -40}\n"
     ]
    }
   ],
   "source": [
    "#Way1\n",
    "my_set={2,6.3,\"Hello\",\"World\",-40}\n",
    "print(my_set)\n",
    "\n",
    "# if you try the following code line you will get an error\n",
    "# my_set={3,10,[1.5,\"Hello\"]} #==> error because list, which is mutable, cannot be added to a set. \n",
    "# Remember elements of a set are immutable \n",
    "print(my_set)"
   ]
  },
  {
   "cell_type": "code",
   "execution_count": 59,
   "metadata": {},
   "outputs": [
    {
     "name": "stdout",
     "output_type": "stream",
     "text": [
      "first set <class 'dict'>\n",
      "second set <class 'set'>\n",
      "third set <class 'set'>\n",
      "{10, 4, 6}\n"
     ]
    }
   ],
   "source": [
    "#Way2\n",
    "#creating an empty set\n",
    "my_set={} #==> Incorrect because it's create an empty dictionnary\n",
    "print(\"first set\", type(my_set))\n",
    "\n",
    "my_set=set() #==> Incorrect because it's create an empty dictionnary\n",
    "print(\"second set\",type(my_set))\n",
    "\n",
    "my_set=set((4,6,10)) # is equivalent to set({4,6,10}), also to set([4,6,10])\n",
    "print(\"third set\",type(my_set))\n",
    "print(my_set)"
   ]
  },
  {
   "cell_type": "markdown",
   "metadata": {},
   "source": [
    "## b- Changint a set "
   ]
  },
  {
   "cell_type": "raw",
   "metadata": {},
   "source": [
    "add()==> to add a single element\n",
    "multiple()==> to add a multiple element"
   ]
  },
  {
   "cell_type": "code",
   "execution_count": 60,
   "metadata": {},
   "outputs": [
    {
     "name": "stdout",
     "output_type": "stream",
     "text": [
      "{8, 2, 5}\n",
      "{8, 2, 5, 7}\n",
      "{8, 2, 5, 7}\n"
     ]
    }
   ],
   "source": [
    "my_set={5,2,8}\n",
    "print(my_set)\n",
    "\n",
    "my_set.add(7) #add SINGLE element\n",
    "print(my_set)\n",
    "\n",
    "my_set.add(8) #duplicates are not authorized\n",
    "print(my_set)"
   ]
  },
  {
   "cell_type": "code",
   "execution_count": 61,
   "metadata": {},
   "outputs": [
    {
     "name": "stdout",
     "output_type": "stream",
     "text": [
      "{2, 5, 18, 20, 22}\n",
      "{2, 5, 6, 7, 9, 10, 18, 20, 22}\n",
      "{2, 5, 6, 7, 9, 10, 11, 12, 18, 20, 22}\n"
     ]
    }
   ],
   "source": [
    "my_set={5,2,22,18,20} #if length of set is >=5 ==> the set is ordered automatically\n",
    "print(my_set)\n",
    "\n",
    "my_set.update([6,7],{9,10}) #add MULTIPLE elements\n",
    "print(my_set)\n",
    "\n",
    "my_set.update([6,10],{11,12}) #duplicates are not authorized\n",
    "print(my_set)"
   ]
  },
  {
   "cell_type": "markdown",
   "metadata": {},
   "source": [
    "## c- Removing elements from a set"
   ]
  },
  {
   "cell_type": "raw",
   "metadata": {},
   "source": [
    "removing an item\n",
    "discard() ==> if the element does not exist in the set, it remains unchanged\n",
    "remove()==> difference with discard() is if the element does not exist in the set, it will raise an error \n",
    "\n",
    "pop() ==> removing an item and returning it. As the set is unordered, we can't determine which item will be removed. It's random.\n",
    "clear() ==> removing all items"
   ]
  },
  {
   "cell_type": "code",
   "execution_count": 62,
   "metadata": {},
   "outputs": [
    {
     "name": "stdout",
     "output_type": "stream",
     "text": [
      "1 {26, 12, 7}\n",
      "2 {26, 7}\n",
      "3 {26, 7}\n",
      "4 {7}\n",
      "5 {7}\n"
     ]
    }
   ],
   "source": [
    "my_set={12,7,26}\n",
    "print(\"1\", my_set)\n",
    "\n",
    "my_set.discard(12)\n",
    "print(\"2\", my_set)\n",
    "\n",
    "my_set.discard(20)\n",
    "print(\"3\", my_set)\n",
    "\n",
    "my_set.remove(26)\n",
    "print(\"4\", my_set)\n",
    "\n",
    "#my_set.remove(8) #==> it will raise an error because 8 does not exist in the set\n",
    "print(\"5\", my_set)"
   ]
  },
  {
   "cell_type": "code",
   "execution_count": 63,
   "metadata": {},
   "outputs": [
    {
     "name": "stdout",
     "output_type": "stream",
     "text": [
      "1 {26, 12, 7}\n",
      "2 26\n",
      "3 {12, 7}\n",
      "4 None\n",
      "5 set()\n"
     ]
    }
   ],
   "source": [
    "my_set={12,7,26}\n",
    "print(\"1\", my_set)\n",
    "print(\"2\", my_set.pop())\n",
    "print(\"3\", my_set)\n",
    "\n",
    "print(\"4\", my_set.clear())\n",
    "print(\"5\", my_set)"
   ]
  },
  {
   "cell_type": "markdown",
   "metadata": {},
   "source": [
    "## d- Maths operations"
   ]
  },
  {
   "cell_type": "raw",
   "metadata": {},
   "source": [
    "union: S1|S2 or S1.union(S2)\n",
    "intersection: S1 & S2, S1.intersection(S2)\n",
    "difference: S1 - S2, S1.difference(S2)\n",
    "symmetric_difference: S1 ^ S2, S1.symmetric_difference(S2)"
   ]
  },
  {
   "cell_type": "code",
   "execution_count": 64,
   "metadata": {},
   "outputs": [
    {
     "name": "stdout",
     "output_type": "stream",
     "text": [
      "S1 {1, 2, 3, 4}\n",
      "S2 {3, 4, 5, 6}\n",
      "union {1, 2, 3, 4, 5, 6}\n",
      "union {1, 2, 3, 4, 5, 6}\n",
      "intersection {3, 4}\n",
      "intersection {3, 4}\n",
      "difference {1, 2}\n",
      "difference {1, 2}\n",
      "difference {5, 6}\n",
      "difference {5, 6}\n",
      "symmetric difference {1, 2, 5, 6}\n",
      "symmetric difference {1, 2, 5, 6}\n"
     ]
    }
   ],
   "source": [
    "S1={1,2,3,4}\n",
    "S2={3,4,5,6}\n",
    "print(\"S1\",S1)\n",
    "print(\"S2\",S2)\n",
    "\n",
    "print(\"union\",S1|S2)\n",
    "print(\"union\",S1.union(S2))\n",
    "\n",
    "print(\"intersection\",S1 & S2)\n",
    "print(\"intersection\",S1.intersection(S2))\n",
    "\n",
    "print(\"difference\",S1 - S2)\n",
    "print(\"difference\",S1.difference(S2))\n",
    "\n",
    "print(\"difference\",S2 - S1)\n",
    "print(\"difference\",S2.difference(S1))\n",
    "\n",
    "print(\"symmetric difference\",S1^S2)\n",
    "print(\"symmetric difference\",S1.symmetric_difference(S2))"
   ]
  },
  {
   "cell_type": "markdown",
   "metadata": {},
   "source": [
    "## e- Testing for existing item in a set"
   ]
  },
  {
   "cell_type": "code",
   "execution_count": 65,
   "metadata": {},
   "outputs": [
    {
     "name": "stdout",
     "output_type": "stream",
     "text": [
      "1 {1, 2, 3, 4}\n",
      "2 True\n",
      "3 False\n"
     ]
    }
   ],
   "source": [
    "my_set={1,2,3,4}\n",
    "print(\"1\", my_set)\n",
    "print(\"2\",3 in my_set)\n",
    "print(\"3\",4 not in my_set)"
   ]
  },
  {
   "cell_type": "markdown",
   "metadata": {},
   "source": [
    "## f- Iterating through a set"
   ]
  },
  {
   "cell_type": "code",
   "execution_count": 66,
   "metadata": {},
   "outputs": [
    {
     "name": "stdout",
     "output_type": "stream",
     "text": [
      "my set is {3, 10, 2, 4}\n",
      "3\n",
      "10\n",
      "2\n",
      "4\n"
     ]
    }
   ],
   "source": [
    "my_set={10,2,3,4}\n",
    "print(\"my set is\",my_set)\n",
    "\n",
    "for item in my_set:\n",
    "    print(item)"
   ]
  },
  {
   "cell_type": "markdown",
   "metadata": {},
   "source": [
    "## g- Built in functions with Set"
   ]
  },
  {
   "cell_type": "raw",
   "metadata": {},
   "source": [
    "all(my_set)==> return True if all elements are true\n",
    "any(my_set) ==> return True if at least one element is true. It the set is empty, it retunrs False\n"
   ]
  },
  {
   "cell_type": "code",
   "execution_count": 67,
   "metadata": {},
   "outputs": [
    {
     "name": "stdout",
     "output_type": "stream",
     "text": [
      "all True\n",
      "all False\n",
      "any True\n",
      "enumerate\n",
      "my_list [10, 5, 3, 8]\n",
      "index is= 0  the value= 8\n",
      "index is= 1  the value= 10\n",
      "index is= 2  the value= 3\n",
      "index is= 3  the value= 5\n",
      "tuple of index and value= (0, 8)\n",
      "tuple of index and value= (1, 10)\n",
      "tuple of index and value= (2, 3)\n",
      "tuple of index and value= (3, 5)\n"
     ]
    }
   ],
   "source": [
    "my_set={10,5,3,8}\n",
    "print(\"all\",all(my_set))\n",
    "\n",
    "my_set={0,5,3,8}\n",
    "print(\"all\",all(my_set))\n",
    "\n",
    "my_set={0,5,3,8}\n",
    "print(\"any\",any(my_set))\n",
    "\n",
    "print(\"enumerate\")\n",
    "my_set={10,5,3,8}\n",
    "print(\"my_list\",my_list)\n",
    "for i,value in enumerate(my_set):\n",
    "    print(\"index is=\",i, \" the value=\",value)\n",
    "    \n",
    "for tuple_i_v in enumerate(my_set):\n",
    "    print(\"tuple of index and value=\",tuple_i_v)"
   ]
  },
  {
   "cell_type": "code",
   "execution_count": 68,
   "metadata": {},
   "outputs": [
    {
     "name": "stdout",
     "output_type": "stream",
     "text": [
      "len 4\n",
      "max 10\n",
      "min 3\n",
      "sorted [3, 5, 8, 10]\n",
      "sum 26\n"
     ]
    }
   ],
   "source": [
    "my_set={10,5,3,8}\n",
    "print(\"len\",len(my_set))\n",
    "\n",
    "print(\"max\",max(my_set))\n",
    "\n",
    "print(\"min\",min(my_set))\n",
    "\n",
    "print(\"sorted\",sorted(my_set)) #==> It returNs a sorted LIST and not a SET ==> does not sort the set itself\n",
    "\n",
    "print(\"sum\",sum(my_set)) #==> It returNs a sorted LIST and not a SET ==> does not sort the set itself"
   ]
  },
  {
   "cell_type": "markdown",
   "metadata": {},
   "source": [
    "# Dictionary "
   ]
  },
  {
   "cell_type": "raw",
   "metadata": {},
   "source": [
    "A dictionary is unordered collection of items. It has key:value pair items.\n",
    "It allows to retrieve value when the key is known."
   ]
  },
  {
   "cell_type": "markdown",
   "metadata": {},
   "source": [
    "## a- Creating a dictionary"
   ]
  },
  {
   "cell_type": "code",
   "execution_count": 69,
   "metadata": {},
   "outputs": [
    {
     "name": "stdout",
     "output_type": "stream",
     "text": [
      "1-1 {}\n",
      "1-2 {'Key1': 'Value1', 'Name': 'DUPONT'}\n",
      "2-1 {}\n",
      "2-2 {'Key1': 'Value1', 'Name': 'DUPONT'}\n",
      "3 {'first word': 'Hello', 'second word': 'World'}\n"
     ]
    }
   ],
   "source": [
    "#Way1\n",
    "my_dict={}\n",
    "print(\"1-1\",my_dict)\n",
    "\n",
    "my_dict={\"Key1\":\"Value1\",\"Name\":\"DUPONT\"}\n",
    "print(\"1-2\",my_dict)\n",
    "\n",
    "#Way2\n",
    "my_dict=dict()\n",
    "print(\"2-1\",my_dict)\n",
    "\n",
    "my_dict=dict({\"Key1\":\"Value1\",\"Name\":\"DUPONT\"})\n",
    "print(\"2-2\",my_dict)\n",
    "\n",
    "#Way3\n",
    "my_dict=dict([(\"first word\",\"Hello\"),(\"second word\",\"World\")])\n",
    "print(\"3\",my_dict)"
   ]
  },
  {
   "cell_type": "markdown",
   "metadata": {},
   "source": [
    "## b- Accessing elements"
   ]
  },
  {
   "cell_type": "code",
   "execution_count": 70,
   "metadata": {},
   "outputs": [
    {
     "name": "stdout",
     "output_type": "stream",
     "text": [
      "DUPONT\n",
      "Paris\n"
     ]
    }
   ],
   "source": [
    "my_dict=dict({\"name\":\"DUPONT\",\"city\":\"Paris\"})\n",
    "print(my_dict['name'])\n",
    "print(my_dict.get('city'))"
   ]
  },
  {
   "cell_type": "code",
   "execution_count": 71,
   "metadata": {},
   "outputs": [
    {
     "data": {
      "text/plain": [
       "dict_keys(['name', 'city'])"
      ]
     },
     "execution_count": 71,
     "metadata": {},
     "output_type": "execute_result"
    },
    {
     "data": {
      "text/plain": [
       "dict_values(['DUPONT', 'Paris'])"
      ]
     },
     "execution_count": 71,
     "metadata": {},
     "output_type": "execute_result"
    },
    {
     "data": {
      "text/plain": [
       "dict_items([('name', 'DUPONT'), ('city', 'Paris')])"
      ]
     },
     "execution_count": 71,
     "metadata": {},
     "output_type": "execute_result"
    }
   ],
   "source": [
    "my_dict.keys()\n",
    "my_dict.values()\n",
    "my_dict.items()"
   ]
  },
  {
   "cell_type": "markdown",
   "metadata": {},
   "source": [
    "## c- Adding elements"
   ]
  },
  {
   "cell_type": "code",
   "execution_count": 72,
   "metadata": {},
   "outputs": [
    {
     "name": "stdout",
     "output_type": "stream",
     "text": [
      "{'name': 'DUPONT', 'city': 'Paris'}\n",
      "{'name': 'DUPONT', 'city': 'Paris', 'adress': '1 rue princesse 6ème'}\n"
     ]
    }
   ],
   "source": [
    "my_dict={\"name\":\"DUPONT\",\"city\":\"Paris\"}\n",
    "print(my_dict)\n",
    "\n",
    "my_dict['adress']=\"1 rue princesse 6ème\"\n",
    "print(my_dict)"
   ]
  },
  {
   "cell_type": "markdown",
   "metadata": {},
   "source": [
    "## d- Changing elements"
   ]
  },
  {
   "cell_type": "code",
   "execution_count": 73,
   "metadata": {},
   "outputs": [
    {
     "name": "stdout",
     "output_type": "stream",
     "text": [
      "{'name': 'DUPONT', 'city': 'Paris'}\n",
      "{'name': 'DUPONT', 'city': 'NEW-YORK'}\n"
     ]
    }
   ],
   "source": [
    "my_dict={\"name\":\"DUPONT\",\"city\":\"Paris\"}\n",
    "print(my_dict)\n",
    "\n",
    "my_dict['city']='NEW-YORK'\n",
    "print(my_dict)"
   ]
  },
  {
   "cell_type": "code",
   "execution_count": 74,
   "metadata": {},
   "outputs": [
    {
     "name": "stdout",
     "output_type": "stream",
     "text": [
      "1 {'name': 'DUPONT', 'city': 'Paris', 'adress': '1 rue princesse 6ème', 'hobbies': 'cinema', 'background': 'Python'}\n"
     ]
    },
    {
     "data": {
      "text/plain": [
       "'45'"
      ]
     },
     "execution_count": 74,
     "metadata": {},
     "output_type": "execute_result"
    },
    {
     "name": "stdout",
     "output_type": "stream",
     "text": [
      "2 {'name': 'DUPONT', 'city': 'Paris', 'adress': '1 rue princesse 6ème', 'hobbies': 'cinema', 'background': 'Python', 'age': '45'}\n"
     ]
    },
    {
     "data": {
      "text/plain": [
       "'DUPONT'"
      ]
     },
     "execution_count": 74,
     "metadata": {},
     "output_type": "execute_result"
    },
    {
     "name": "stdout",
     "output_type": "stream",
     "text": [
      "3 {'name': 'DUPONT', 'city': 'Paris', 'adress': '1 rue princesse 6ème', 'hobbies': 'cinema', 'background': 'Python', 'age': '45'}\n"
     ]
    }
   ],
   "source": [
    "#changing and adding elements\n",
    "my_dict={'name': 'DUPONT', 'city': 'Paris', 'adress': '1 rue princesse 6ème','hobbies':'cinema','background':'Python'}\n",
    "print(\"1\",my_dict)\n",
    "\n",
    "#adding\n",
    "my_dict.setdefault('age','45')\n",
    "print(\"2\",my_dict)\n",
    "\n",
    "#can'i change element if it's already exist\n",
    "my_dict.setdefault('name','ROY')\n",
    "print(\"3\",my_dict)"
   ]
  },
  {
   "cell_type": "markdown",
   "metadata": {},
   "source": [
    "#####  updating and adding elements with another dictionary"
   ]
  },
  {
   "cell_type": "code",
   "execution_count": 75,
   "metadata": {},
   "outputs": [
    {
     "name": "stdout",
     "output_type": "stream",
     "text": [
      "dict1 {'A': 'a', 'B': 'c', 'C': 'c'}\n",
      "dicté {'A': 'a', 'B': 'c', 'C': 'c'}\n",
      "dict1 {'A': 'a', 'B': 'b', 'C': 'c'}\n",
      "dict1 {'A': 'a', 'B': 'b', 'C': 'c', 'D': 'd'}\n"
     ]
    }
   ],
   "source": [
    "dict1={\"A\":\"a\",\"B\":\"c\",\"C\":\"c\"}\n",
    "print(\"dict1\",dict1)\n",
    "\n",
    "dict2={\"B\":\"b\"}\n",
    "print(\"dicté\",dict1)\n",
    "\n",
    "#update element when it exists\n",
    "dict1.update(dict2)\n",
    "print(\"dict1\",dict1)\n",
    "\n",
    "#add element if it does not exist\n",
    "dict2={\"D\":\"d\"}\n",
    "dict1.update(dict2)\n",
    "print(\"dict1\",dict1)"
   ]
  },
  {
   "cell_type": "markdown",
   "metadata": {},
   "source": [
    "#####  updating and adding elements with direct values"
   ]
  },
  {
   "cell_type": "code",
   "execution_count": 76,
   "metadata": {},
   "outputs": [
    {
     "name": "stdout",
     "output_type": "stream",
     "text": [
      "dict1 {'A': 'a', 'B': 'c', 'C': 'c'}\n",
      "dict1 {'A': 'a', 'B': 'c', 'C': 'c', 'D': 'd', 'E': 'e'}\n"
     ]
    }
   ],
   "source": [
    "dict1={\"A\":\"a\",\"B\":\"c\",\"C\":\"c\"}\n",
    "print(\"dict1\",dict1)\n",
    "\n",
    "dict1.update(D=\"d\",E=\"e\")\n",
    "print(\"dict1\",dict1)"
   ]
  },
  {
   "cell_type": "markdown",
   "metadata": {},
   "source": [
    "## e- Deleting and removing items"
   ]
  },
  {
   "cell_type": "markdown",
   "metadata": {},
   "source": [
    "pop() ==> remove an item (Key and value) from a dictionary and return it\n",
    "popitem() ==> remove an arbitray item from a dictionary\n",
    "clear() ==> remove all items in a dictionary\n",
    "del ==> remove an item or all dictionary"
   ]
  },
  {
   "cell_type": "code",
   "execution_count": 77,
   "metadata": {},
   "outputs": [
    {
     "name": "stdout",
     "output_type": "stream",
     "text": [
      "1 {'name': 'DUPONT', 'city': 'Paris', 'adress': '1 rue princesse 6ème', 'hobbies': 'cinema', 'background': 'Python'}\n",
      "2 DUPONT\n",
      "3 {'city': 'Paris', 'adress': '1 rue princesse 6ème', 'hobbies': 'cinema', 'background': 'Python'}\n",
      "4 ('background', 'Python')\n",
      "5 {'city': 'Paris', 'adress': '1 rue princesse 6ème'}\n",
      "6 {}\n"
     ]
    }
   ],
   "source": [
    "my_dict={'name': 'DUPONT', 'city': 'Paris', 'adress': '1 rue princesse 6ème','hobbies':'cinema','background':'Python'}\n",
    "print(\"1\",my_dict)\n",
    "\n",
    "print(\"2\", my_dict.pop(\"name\"))\n",
    "print(\"3\", my_dict)\n",
    "deleted_item=my_dict.popitem()\n",
    "print(\"4\", deleted_item)\n",
    "# print(\"5\", deleted_item[0])\n",
    "\n",
    "if deleted_item[0]!='hobbies':\n",
    "    del my_dict['hobbies']\n",
    "\n",
    "print(\"5\", my_dict)\n",
    "\n",
    "my_dict.clear()\n",
    "print(\"6\", my_dict)\n",
    "\n",
    "my_dict={'name': 'DUPONT', 'city': 'Paris', 'adress': '1 rue princesse 6ème','hobbies':'cinema','background':'Python'}\n",
    "del my_dict\n",
    "\n",
    "#if you run print(\"7\",my_dict): you will get an error, because my_dict is already deleted"
   ]
  },
  {
   "cell_type": "markdown",
   "metadata": {},
   "source": [
    "#### f- "
   ]
  },
  {
   "cell_type": "code",
   "execution_count": 78,
   "metadata": {},
   "outputs": [
    {
     "name": "stdout",
     "output_type": "stream",
     "text": [
      "{'name': 'DUPONT', 'city': 'Paris', 'adress': '1 rue princesse 6ème', 'hobbies': 'cinema', 'background': 'Python'}\n",
      "items== dict_items([('name', 'DUPONT'), ('city', 'Paris'), ('adress', '1 rue princesse 6ème'), ('hobbies', 'cinema'), ('background', 'Python')])\n",
      "items sorted== [('adress', '1 rue princesse 6ème'), ('background', 'Python'), ('city', 'Paris'), ('hobbies', 'cinema'), ('name', 'DUPONT')]\n",
      "keys== dict_keys(['name', 'city', 'adress', 'hobbies', 'background'])\n",
      "keys as list == ['name', 'city', 'adress', 'hobbies', 'background']\n"
     ]
    },
    {
     "data": {
      "text/plain": [
       "'city'"
      ]
     },
     "execution_count": 78,
     "metadata": {},
     "output_type": "execute_result"
    },
    {
     "name": "stdout",
     "output_type": "stream",
     "text": [
      "city\n",
      "values== dict_values(['DUPONT', 'Paris', '1 rue princesse 6ème', 'cinema', 'Python'])\n",
      "values sorted== ['1 rue princesse 6ème', 'DUPONT', 'Paris', 'Python', 'cinema']\n"
     ]
    }
   ],
   "source": [
    "my_dict={'name': 'DUPONT', 'city': 'Paris', 'adress': '1 rue princesse 6ème','hobbies':'cinema','background':'Python'}\n",
    "print(my_dict)\n",
    "\n",
    "print(\"items==\",my_dict.items())\n",
    "print(\"items sorted==\",sorted(my_dict.items()))\n",
    "\n",
    "print(\"keys==\", my_dict.keys()) #==> can't access elements by indexing this key list ==> must convert it to a list. \n",
    "\n",
    "# accessing by using a loop\n",
    "# for key in my_dict.keys():\n",
    "#     print(key)\n",
    "\n",
    "print(\"keys as list ==\", list(my_dict.keys())) #==> must convert it to a list to access to elements\n",
    "list_key=list(my_dict.keys())\n",
    "list_key[1]\n",
    "print(list_key[1])\n",
    "print(\"values==\",my_dict.values()) #==> same than keys\n",
    "print(\"values sorted==\",sorted(my_dict.values()))\n"
   ]
  },
  {
   "cell_type": "code",
   "execution_count": 79,
   "metadata": {},
   "outputs": [
    {
     "ename": "IndentationError",
     "evalue": "expected an indented block (<ipython-input-79-adbc1ef17413>, line 4)",
     "output_type": "error",
     "traceback": [
      "\u001b[1;36m  File \u001b[1;32m\"<ipython-input-79-adbc1ef17413>\"\u001b[1;36m, line \u001b[1;32m4\u001b[0m\n\u001b[1;33m    keys\u001b[0m\n\u001b[1;37m       ^\u001b[0m\n\u001b[1;31mIndentationError\u001b[0m\u001b[1;31m:\u001b[0m expected an indented block\n"
     ]
    }
   ],
   "source": [
    "my_dict={\"\":\"\",\"\":\"\",}\n",
    "for key, value in my_dict.items():\n",
    "\n",
    "keys\n",
    "values\n"
   ]
  },
  {
   "cell_type": "code",
   "execution_count": null,
   "metadata": {},
   "outputs": [],
   "source": [
    "my_dict = {}.fromkeys(['Math','English','Science'],1)\n",
    "print(my_dict)"
   ]
  },
  {
   "cell_type": "markdown",
   "metadata": {},
   "source": [
    "<div class=\"alert alert-block alert-\n",
    "            info\">\n",
    "<b>Tip:</b> Use blue boxes (alert-info) for tips and notes. \n",
    "If it’s a note, you don’t have to include the word “Note”.\n",
    "</div>"
   ]
  },
  {
   "cell_type": "markdown",
   "metadata": {},
   "source": [
    "<div class=\"alert alert-block alert-warning\">\n",
    "<b>Example:</b> Yellow Boxes are generally used to include additional examples or mathematical formulas.\n",
    "</div>"
   ]
  },
  {
   "cell_type": "markdown",
   "metadata": {},
   "source": [
    "<div class=\"alert alert-block alert-success\">\n",
    "Use green box only when necessary like to display links to related content.\n",
    "</div>"
   ]
  },
  {
   "cell_type": "markdown",
   "metadata": {},
   "source": [
    "<div class=\"alert alert-block alert-danger\">\n",
    "It is good to avoid red boxes but can be used to alert users to not delete some important part of code etc. \n",
    "</div>"
   ]
  }
 ],
 "metadata": {
  "kernelspec": {
   "display_name": "Python 3",
   "language": "python",
   "name": "python3"
  },
  "language_info": {
   "codemirror_mode": {
    "name": "ipython",
    "version": 3
   },
   "file_extension": ".py",
   "mimetype": "text/x-python",
   "name": "python",
   "nbconvert_exporter": "python",
   "pygments_lexer": "ipython3",
   "version": "3.7.6"
  },
  "toc": {
   "base_numbering": 1,
   "nav_menu": {},
   "number_sections": true,
   "sideBar": true,
   "skip_h1_title": false,
   "title_cell": "Table of Contents",
   "title_sidebar": "Contents",
   "toc_cell": false,
   "toc_position": {},
   "toc_section_display": true,
   "toc_window_display": true
  },
  "varInspector": {
   "cols": {
    "lenName": 16,
    "lenType": 16,
    "lenVar": 40
   },
   "kernels_config": {
    "python": {
     "delete_cmd_postfix": "",
     "delete_cmd_prefix": "del ",
     "library": "var_list.py",
     "varRefreshCmd": "print(var_dic_list())"
    },
    "r": {
     "delete_cmd_postfix": ") ",
     "delete_cmd_prefix": "rm(",
     "library": "var_list.r",
     "varRefreshCmd": "cat(var_dic_list()) "
    }
   },
   "types_to_exclude": [
    "module",
    "function",
    "builtin_function_or_method",
    "instance",
    "_Feature"
   ],
   "window_display": false
  }
 },
 "nbformat": 4,
 "nbformat_minor": 2
}
