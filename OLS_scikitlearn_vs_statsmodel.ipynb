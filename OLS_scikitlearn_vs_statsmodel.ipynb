{
 "cells": [
  {
   "cell_type": "markdown",
   "id": "e84ea334",
   "metadata": {},
   "source": [
    "# IMPORT LIB"
   ]
  },
  {
   "cell_type": "code",
   "execution_count": 1,
   "id": "013b0e56",
   "metadata": {},
   "outputs": [],
   "source": [
    "import pandas as pd\n",
    "import numpy as np\n",
    "\n",
    "from sklearn.linear_model import LinearRegression\n",
    "import statsmodels.api as sm\n",
    "from sklearn.metrics import r2_score\n",
    "\n",
    "\n",
    "from sklearn.model_selection import train_test_split\n",
    "from sklearn.preprocessing import StandardScaler\n",
    "\n",
    "import matplotlib.pyplot as plt\n",
    "import seaborn as sns\n",
    "sns.set()\n",
    "\n",
    "from sklearn.metrics import mean_squared_error"
   ]
  },
  {
   "cell_type": "markdown",
   "id": "96ba7c62",
   "metadata": {},
   "source": [
    "# LOAD DATASET"
   ]
  },
  {
   "cell_type": "code",
   "execution_count": 2,
   "id": "a7eead63",
   "metadata": {},
   "outputs": [
    {
     "name": "stdout",
     "output_type": "stream",
     "text": [
      "(442, 11)\n"
     ]
    },
    {
     "data": {
      "text/html": [
       "<div>\n",
       "<style scoped>\n",
       "    .dataframe tbody tr th:only-of-type {\n",
       "        vertical-align: middle;\n",
       "    }\n",
       "\n",
       "    .dataframe tbody tr th {\n",
       "        vertical-align: top;\n",
       "    }\n",
       "\n",
       "    .dataframe thead th {\n",
       "        text-align: right;\n",
       "    }\n",
       "</style>\n",
       "<table border=\"1\" class=\"dataframe\">\n",
       "  <thead>\n",
       "    <tr style=\"text-align: right;\">\n",
       "      <th></th>\n",
       "      <th>AGE</th>\n",
       "      <th>SEX</th>\n",
       "      <th>BMI</th>\n",
       "      <th>BP</th>\n",
       "      <th>S1</th>\n",
       "      <th>S2</th>\n",
       "      <th>S3</th>\n",
       "      <th>S4</th>\n",
       "      <th>S5</th>\n",
       "      <th>S6</th>\n",
       "      <th>Y</th>\n",
       "    </tr>\n",
       "  </thead>\n",
       "  <tbody>\n",
       "    <tr>\n",
       "      <th>0</th>\n",
       "      <td>59</td>\n",
       "      <td>2</td>\n",
       "      <td>32.1</td>\n",
       "      <td>101.0</td>\n",
       "      <td>157</td>\n",
       "      <td>93.2</td>\n",
       "      <td>38.0</td>\n",
       "      <td>4.0</td>\n",
       "      <td>4.8598</td>\n",
       "      <td>87</td>\n",
       "      <td>151</td>\n",
       "    </tr>\n",
       "    <tr>\n",
       "      <th>1</th>\n",
       "      <td>48</td>\n",
       "      <td>1</td>\n",
       "      <td>21.6</td>\n",
       "      <td>87.0</td>\n",
       "      <td>183</td>\n",
       "      <td>103.2</td>\n",
       "      <td>70.0</td>\n",
       "      <td>3.0</td>\n",
       "      <td>3.8918</td>\n",
       "      <td>69</td>\n",
       "      <td>75</td>\n",
       "    </tr>\n",
       "    <tr>\n",
       "      <th>2</th>\n",
       "      <td>72</td>\n",
       "      <td>2</td>\n",
       "      <td>30.5</td>\n",
       "      <td>93.0</td>\n",
       "      <td>156</td>\n",
       "      <td>93.6</td>\n",
       "      <td>41.0</td>\n",
       "      <td>4.0</td>\n",
       "      <td>4.6728</td>\n",
       "      <td>85</td>\n",
       "      <td>141</td>\n",
       "    </tr>\n",
       "    <tr>\n",
       "      <th>3</th>\n",
       "      <td>24</td>\n",
       "      <td>1</td>\n",
       "      <td>25.3</td>\n",
       "      <td>84.0</td>\n",
       "      <td>198</td>\n",
       "      <td>131.4</td>\n",
       "      <td>40.0</td>\n",
       "      <td>5.0</td>\n",
       "      <td>4.8903</td>\n",
       "      <td>89</td>\n",
       "      <td>206</td>\n",
       "    </tr>\n",
       "    <tr>\n",
       "      <th>4</th>\n",
       "      <td>50</td>\n",
       "      <td>1</td>\n",
       "      <td>23.0</td>\n",
       "      <td>101.0</td>\n",
       "      <td>192</td>\n",
       "      <td>125.4</td>\n",
       "      <td>52.0</td>\n",
       "      <td>4.0</td>\n",
       "      <td>4.2905</td>\n",
       "      <td>80</td>\n",
       "      <td>135</td>\n",
       "    </tr>\n",
       "  </tbody>\n",
       "</table>\n",
       "</div>"
      ],
      "text/plain": [
       "   AGE  SEX   BMI     BP   S1     S2    S3   S4      S5  S6    Y\n",
       "0   59    2  32.1  101.0  157   93.2  38.0  4.0  4.8598  87  151\n",
       "1   48    1  21.6   87.0  183  103.2  70.0  3.0  3.8918  69   75\n",
       "2   72    2  30.5   93.0  156   93.6  41.0  4.0  4.6728  85  141\n",
       "3   24    1  25.3   84.0  198  131.4  40.0  5.0  4.8903  89  206\n",
       "4   50    1  23.0  101.0  192  125.4  52.0  4.0  4.2905  80  135"
      ]
     },
     "execution_count": 2,
     "metadata": {},
     "output_type": "execute_result"
    }
   ],
   "source": [
    "df=pd.read_csv(\"https://www4.stat.ncsu.edu/~boos/var.select/diabetes.tab.txt\", sep=\"\\t\")\n",
    "print(df.shape)\n",
    "df.head()\n",
    "#(442, 11)"
   ]
  },
  {
   "cell_type": "markdown",
   "id": "d6a62828",
   "metadata": {},
   "source": [
    "# Describe()"
   ]
  },
  {
   "cell_type": "code",
   "execution_count": 3,
   "id": "989d97d0",
   "metadata": {},
   "outputs": [
    {
     "data": {
      "text/html": [
       "<div>\n",
       "<style scoped>\n",
       "    .dataframe tbody tr th:only-of-type {\n",
       "        vertical-align: middle;\n",
       "    }\n",
       "\n",
       "    .dataframe tbody tr th {\n",
       "        vertical-align: top;\n",
       "    }\n",
       "\n",
       "    .dataframe thead th {\n",
       "        text-align: right;\n",
       "    }\n",
       "</style>\n",
       "<table border=\"1\" class=\"dataframe\">\n",
       "  <thead>\n",
       "    <tr style=\"text-align: right;\">\n",
       "      <th></th>\n",
       "      <th>AGE</th>\n",
       "      <th>SEX</th>\n",
       "      <th>BMI</th>\n",
       "      <th>BP</th>\n",
       "      <th>S1</th>\n",
       "      <th>S2</th>\n",
       "      <th>S3</th>\n",
       "      <th>S4</th>\n",
       "      <th>S5</th>\n",
       "      <th>S6</th>\n",
       "      <th>Y</th>\n",
       "    </tr>\n",
       "  </thead>\n",
       "  <tbody>\n",
       "    <tr>\n",
       "      <th>count</th>\n",
       "      <td>442.0</td>\n",
       "      <td>442.0</td>\n",
       "      <td>442.0</td>\n",
       "      <td>442.0</td>\n",
       "      <td>442.0</td>\n",
       "      <td>442.0</td>\n",
       "      <td>442.0</td>\n",
       "      <td>442.0</td>\n",
       "      <td>442.0</td>\n",
       "      <td>442.0</td>\n",
       "      <td>442.0</td>\n",
       "    </tr>\n",
       "    <tr>\n",
       "      <th>mean</th>\n",
       "      <td>48.5</td>\n",
       "      <td>1.5</td>\n",
       "      <td>26.4</td>\n",
       "      <td>94.6</td>\n",
       "      <td>189.1</td>\n",
       "      <td>115.4</td>\n",
       "      <td>49.8</td>\n",
       "      <td>4.1</td>\n",
       "      <td>4.6</td>\n",
       "      <td>91.3</td>\n",
       "      <td>152.1</td>\n",
       "    </tr>\n",
       "    <tr>\n",
       "      <th>std</th>\n",
       "      <td>13.1</td>\n",
       "      <td>0.5</td>\n",
       "      <td>4.4</td>\n",
       "      <td>13.8</td>\n",
       "      <td>34.6</td>\n",
       "      <td>30.4</td>\n",
       "      <td>12.9</td>\n",
       "      <td>1.3</td>\n",
       "      <td>0.5</td>\n",
       "      <td>11.5</td>\n",
       "      <td>77.1</td>\n",
       "    </tr>\n",
       "    <tr>\n",
       "      <th>min</th>\n",
       "      <td>19.0</td>\n",
       "      <td>1.0</td>\n",
       "      <td>18.0</td>\n",
       "      <td>62.0</td>\n",
       "      <td>97.0</td>\n",
       "      <td>41.6</td>\n",
       "      <td>22.0</td>\n",
       "      <td>2.0</td>\n",
       "      <td>3.3</td>\n",
       "      <td>58.0</td>\n",
       "      <td>25.0</td>\n",
       "    </tr>\n",
       "    <tr>\n",
       "      <th>25%</th>\n",
       "      <td>38.2</td>\n",
       "      <td>1.0</td>\n",
       "      <td>23.2</td>\n",
       "      <td>84.0</td>\n",
       "      <td>164.2</td>\n",
       "      <td>96.0</td>\n",
       "      <td>40.2</td>\n",
       "      <td>3.0</td>\n",
       "      <td>4.3</td>\n",
       "      <td>83.2</td>\n",
       "      <td>87.0</td>\n",
       "    </tr>\n",
       "    <tr>\n",
       "      <th>50%</th>\n",
       "      <td>50.0</td>\n",
       "      <td>1.0</td>\n",
       "      <td>25.7</td>\n",
       "      <td>93.0</td>\n",
       "      <td>186.0</td>\n",
       "      <td>113.0</td>\n",
       "      <td>48.0</td>\n",
       "      <td>4.0</td>\n",
       "      <td>4.6</td>\n",
       "      <td>91.0</td>\n",
       "      <td>140.5</td>\n",
       "    </tr>\n",
       "    <tr>\n",
       "      <th>75%</th>\n",
       "      <td>59.0</td>\n",
       "      <td>2.0</td>\n",
       "      <td>29.3</td>\n",
       "      <td>105.0</td>\n",
       "      <td>209.8</td>\n",
       "      <td>134.5</td>\n",
       "      <td>57.8</td>\n",
       "      <td>5.0</td>\n",
       "      <td>5.0</td>\n",
       "      <td>98.0</td>\n",
       "      <td>211.5</td>\n",
       "    </tr>\n",
       "    <tr>\n",
       "      <th>max</th>\n",
       "      <td>79.0</td>\n",
       "      <td>2.0</td>\n",
       "      <td>42.2</td>\n",
       "      <td>133.0</td>\n",
       "      <td>301.0</td>\n",
       "      <td>242.4</td>\n",
       "      <td>99.0</td>\n",
       "      <td>9.1</td>\n",
       "      <td>6.1</td>\n",
       "      <td>124.0</td>\n",
       "      <td>346.0</td>\n",
       "    </tr>\n",
       "  </tbody>\n",
       "</table>\n",
       "</div>"
      ],
      "text/plain": [
       "        AGE   SEX   BMI    BP    S1    S2    S3    S4    S5    S6     Y\n",
       "count 442.0 442.0 442.0 442.0 442.0 442.0 442.0 442.0 442.0 442.0 442.0\n",
       "mean   48.5   1.5  26.4  94.6 189.1 115.4  49.8   4.1   4.6  91.3 152.1\n",
       "std    13.1   0.5   4.4  13.8  34.6  30.4  12.9   1.3   0.5  11.5  77.1\n",
       "min    19.0   1.0  18.0  62.0  97.0  41.6  22.0   2.0   3.3  58.0  25.0\n",
       "25%    38.2   1.0  23.2  84.0 164.2  96.0  40.2   3.0   4.3  83.2  87.0\n",
       "50%    50.0   1.0  25.7  93.0 186.0 113.0  48.0   4.0   4.6  91.0 140.5\n",
       "75%    59.0   2.0  29.3 105.0 209.8 134.5  57.8   5.0   5.0  98.0 211.5\n",
       "max    79.0   2.0  42.2 133.0 301.0 242.4  99.0   9.1   6.1 124.0 346.0"
      ]
     },
     "execution_count": 3,
     "metadata": {},
     "output_type": "execute_result"
    }
   ],
   "source": [
    "pd.options.display.float_format = '{:,.1f}'.format\n",
    "df.describe()"
   ]
  },
  {
   "cell_type": "markdown",
   "id": "98b082f9",
   "metadata": {},
   "source": [
    "# SPLIT DATASET"
   ]
  },
  {
   "cell_type": "code",
   "execution_count": 4,
   "id": "dd3c1bc4",
   "metadata": {},
   "outputs": [
    {
     "name": "stdout",
     "output_type": "stream",
     "text": [
      "Train shape (353, 10) Test shape (89, 10)\n"
     ]
    }
   ],
   "source": [
    "X_train,X_test,y_train,y_test=train_test_split(df.iloc[:,:-1],df['Y'],test_size=0.2,random_state=42)\n",
    "print(\"Train shape\",X_train.shape, \"Test shape\", X_test.shape)\n",
    "\n",
    "sc_x=StandardScaler()\n",
    "X_train_sc=sc_x.fit_transform(X_train)\n",
    "\n",
    "# Apply the scaling to test data sets\n",
    "X_test_sc=sc_x.transform(X_test)\n",
    "\n",
    "#Train shape (353, 10) Test shape (89, 10)"
   ]
  },
  {
   "cell_type": "markdown",
   "id": "e98628c9",
   "metadata": {},
   "source": [
    "# OLS - scikit-learn"
   ]
  },
  {
   "cell_type": "markdown",
   "id": "49e861b8",
   "metadata": {},
   "source": [
    "## Fit, Predict and evaluate"
   ]
  },
  {
   "cell_type": "code",
   "execution_count": 5,
   "id": "144c82a5",
   "metadata": {},
   "outputs": [
    {
     "name": "stdout",
     "output_type": "stream",
     "text": [
      "Intercept 153.74\n",
      "Coefs [1.75, -11.51, 25.61, 16.83, -44.45, 24.64, 7.68, 13.14, 35.16, 2.35]\n",
      "TRAIN-model direct score R2: 0.52792\n",
      "TRAIN-recomputed         R2: 0.52792\n",
      "TEST                     R2: 0.453\n"
     ]
    }
   ],
   "source": [
    "#Fit the models\n",
    "reg_ols=LinearRegression()\n",
    "reg_ols.fit(X_train_sc,y_train)\n",
    "\n",
    "#Coefficients\n",
    "intercept=reg_ols.intercept_\n",
    "coef_ols=[round(coef,2) for coef in reg_ols.coef_]\n",
    "print(\"Intercept\", round(intercept,2))\n",
    "print( \"Coefs\", coef_ols)\n",
    "\n",
    "#Predict values\n",
    "y_train_predict=reg_ols.predict(X_train_sc)\n",
    "y_test_predict=reg_ols.predict(X_test_sc)\n",
    "\n",
    "#Evaluate with R2 score (Coefficient of determination)\n",
    "r2_train=r2_score(y_train, y_train_predict)\n",
    "r2_test=r2_score(y_test, y_test_predict)\n",
    "\n",
    "print(\"TRAIN-model direct score R2: %.5f\"%reg_ols.score(X_train_sc,y_train))\n",
    "print(\"TRAIN-recomputed         R2: %.5f\" % r2_train)\n",
    "print(\"TEST                     R2: %.3f\" % r2_test)\n"
   ]
  },
  {
   "cell_type": "markdown",
   "id": "8378b13b",
   "metadata": {},
   "source": [
    "## Visualization"
   ]
  },
  {
   "cell_type": "code",
   "execution_count": 6,
   "id": "53dc2ba3",
   "metadata": {},
   "outputs": [
    {
     "data": {
      "text/plain": [
       "<matplotlib.legend.Legend at 0x2312d4d5888>"
      ]
     },
     "execution_count": 6,
     "metadata": {},
     "output_type": "execute_result"
    },
    {
     "data": {
      "image/png": "[encoded data removed]",
      "text/plain": [
       "<Figure size 432x288 with 1 Axes>"
      ]
     },
     "metadata": {
      "needs_background": "light"
     },
     "output_type": "display_data"
    }
   ],
   "source": [
    "plt.scatter(y_train_predict,y_train,label='train')\n",
    "plt.scatter(y_test_predict,y_test,label='test')\n",
    "plt.plot(y_train,y_train,'-r')\n",
    "plt.annotate(r\"R2_train={0}, R2_test={1}\".format(round(r2_train,3),round(r2_test,3)), xy=(180, 20),xytext=(0, 0), textcoords='offset points',\n",
    "             fontsize=12)\n",
    "plt.xlabel(\"y_predict_ols\")\n",
    "plt.ylabel(\"y_true\")\n",
    "plt.title(\"Regression: Predicted vs True y\")\n",
    "plt.legend()"
   ]
  },
  {
   "cell_type": "markdown",
   "id": "066cdcc4",
   "metadata": {},
   "source": [
    "# OLS StatsModels"
   ]
  },
  {
   "cell_type": "markdown",
   "id": "088ef609",
   "metadata": {},
   "source": [
    "## Fit the model, Evaluate (results in the summary)"
   ]
  },
  {
   "cell_type": "code",
   "execution_count": 7,
   "id": "70487979",
   "metadata": {},
   "outputs": [
    {
     "name": "stdout",
     "output_type": "stream",
     "text": [
      "TRAIN: R2: 0.52792\n"
     ]
    },
    {
     "data": {
      "text/html": [
       "<table class=\"simpletable\">\n",
       "<caption>OLS Regression Results</caption>\n",
       "<tr>\n",
       "  <th>Dep. Variable:</th>            <td>Y</td>        <th>  R-squared:         </th> <td>   0.528</td>\n",
       "</tr>\n",
       "<tr>\n",
       "  <th>Model:</th>                   <td>OLS</td>       <th>  Adj. R-squared:    </th> <td>   0.514</td>\n",
       "</tr>\n",
       "<tr>\n",
       "  <th>Method:</th>             <td>Least Squares</td>  <th>  F-statistic:       </th> <td>   38.25</td>\n",
       "</tr>\n",
       "<tr>\n",
       "  <th>Date:</th>             <td>Sun, 29 Jan 2023</td> <th>  Prob (F-statistic):</th> <td>5.41e-50</td>\n",
       "</tr>\n",
       "<tr>\n",
       "  <th>Time:</th>                 <td>19:34:41</td>     <th>  Log-Likelihood:    </th> <td> -1906.1</td>\n",
       "</tr>\n",
       "<tr>\n",
       "  <th>No. Observations:</th>      <td>   353</td>      <th>  AIC:               </th> <td>   3834.</td>\n",
       "</tr>\n",
       "<tr>\n",
       "  <th>Df Residuals:</th>          <td>   342</td>      <th>  BIC:               </th> <td>   3877.</td>\n",
       "</tr>\n",
       "<tr>\n",
       "  <th>Df Model:</th>              <td>    10</td>      <th>                     </th>     <td> </td>   \n",
       "</tr>\n",
       "<tr>\n",
       "  <th>Covariance Type:</th>      <td>nonrobust</td>    <th>                     </th>     <td> </td>   \n",
       "</tr>\n",
       "</table>\n",
       "<table class=\"simpletable\">\n",
       "<tr>\n",
       "    <td></td>       <th>coef</th>     <th>std err</th>      <th>t</th>      <th>P>|t|</th>  <th>[0.025</th>    <th>0.975]</th>  \n",
       "</tr>\n",
       "<tr>\n",
       "  <th>const</th> <td>  153.7365</td> <td>    2.896</td> <td>   53.083</td> <td> 0.000</td> <td>  148.040</td> <td>  159.433</td>\n",
       "</tr>\n",
       "<tr>\n",
       "  <th>x1</th>    <td>    1.7538</td> <td>    3.195</td> <td>    0.549</td> <td> 0.583</td> <td>   -4.531</td> <td>    8.038</td>\n",
       "</tr>\n",
       "<tr>\n",
       "  <th>x2</th>    <td>  -11.5118</td> <td>    3.262</td> <td>   -3.529</td> <td> 0.000</td> <td>  -17.929</td> <td>   -5.095</td>\n",
       "</tr>\n",
       "<tr>\n",
       "  <th>x3</th>    <td>   25.6071</td> <td>    3.633</td> <td>    7.049</td> <td> 0.000</td> <td>   18.461</td> <td>   32.753</td>\n",
       "</tr>\n",
       "<tr>\n",
       "  <th>x4</th>    <td>   16.8289</td> <td>    3.454</td> <td>    4.873</td> <td> 0.000</td> <td>   10.036</td> <td>   23.622</td>\n",
       "</tr>\n",
       "<tr>\n",
       "  <th>x5</th>    <td>  -44.4489</td> <td>   21.527</td> <td>   -2.065</td> <td> 0.040</td> <td>  -86.792</td> <td>   -2.106</td>\n",
       "</tr>\n",
       "<tr>\n",
       "  <th>x6</th>    <td>   24.6410</td> <td>   17.319</td> <td>    1.423</td> <td> 0.156</td> <td>   -9.423</td> <td>   58.705</td>\n",
       "</tr>\n",
       "<tr>\n",
       "  <th>x7</th>    <td>    7.6770</td> <td>   10.946</td> <td>    0.701</td> <td> 0.484</td> <td>  -13.854</td> <td>   29.208</td>\n",
       "</tr>\n",
       "<tr>\n",
       "  <th>x8</th>    <td>   13.1388</td> <td>    8.848</td> <td>    1.485</td> <td> 0.138</td> <td>   -4.264</td> <td>   30.542</td>\n",
       "</tr>\n",
       "<tr>\n",
       "  <th>x9</th>    <td>   35.1612</td> <td>    9.191</td> <td>    3.826</td> <td> 0.000</td> <td>   17.083</td> <td>   53.239</td>\n",
       "</tr>\n",
       "<tr>\n",
       "  <th>x10</th>   <td>    2.3514</td> <td>    3.548</td> <td>    0.663</td> <td> 0.508</td> <td>   -4.627</td> <td>    9.330</td>\n",
       "</tr>\n",
       "</table>\n",
       "<table class=\"simpletable\">\n",
       "<tr>\n",
       "  <th>Omnibus:</th>       <td> 1.457</td> <th>  Durbin-Watson:     </th> <td>   1.794</td>\n",
       "</tr>\n",
       "<tr>\n",
       "  <th>Prob(Omnibus):</th> <td> 0.483</td> <th>  Jarque-Bera (JB):  </th> <td>   1.412</td>\n",
       "</tr>\n",
       "<tr>\n",
       "  <th>Skew:</th>          <td> 0.064</td> <th>  Prob(JB):          </th> <td>   0.494</td>\n",
       "</tr>\n",
       "<tr>\n",
       "  <th>Kurtosis:</th>      <td> 2.718</td> <th>  Cond. No.          </th> <td>    20.7</td>\n",
       "</tr>\n",
       "</table><br/><br/>Notes:<br/>[1] Standard Errors assume that the covariance matrix of the errors is correctly specified."
      ],
      "text/plain": [
       "<class 'statsmodels.iolib.summary.Summary'>\n",
       "\"\"\"\n",
       "                            OLS Regression Results                            \n",
       "==============================================================================\n",
       "Dep. Variable:                      Y   R-squared:                       0.528\n",
       "Model:                            OLS   Adj. R-squared:                  0.514\n",
       "Method:                 Least Squares   F-statistic:                     38.25\n",
       "Date:                Sun, 29 Jan 2023   Prob (F-statistic):           5.41e-50\n",
       "Time:                        19:34:41   Log-Likelihood:                -1906.1\n",
       "No. Observations:                 353   AIC:                             3834.\n",
       "Df Residuals:                     342   BIC:                             3877.\n",
       "Df Model:                          10                                         \n",
       "Covariance Type:            nonrobust                                         \n",
       "==============================================================================\n",
       "                 coef    std err          t      P>|t|      [0.025      0.975]\n",
       "------------------------------------------------------------------------------\n",
       "const        153.7365      2.896     53.083      0.000     148.040     159.433\n",
       "x1             1.7538      3.195      0.549      0.583      -4.531       8.038\n",
       "x2           -11.5118      3.262     -3.529      0.000     -17.929      -5.095\n",
       "x3            25.6071      3.633      7.049      0.000      18.461      32.753\n",
       "x4            16.8289      3.454      4.873      0.000      10.036      23.622\n",
       "x5           -44.4489     21.527     -2.065      0.040     -86.792      -2.106\n",
       "x6            24.6410     17.319      1.423      0.156      -9.423      58.705\n",
       "x7             7.6770     10.946      0.701      0.484     -13.854      29.208\n",
       "x8            13.1388      8.848      1.485      0.138      -4.264      30.542\n",
       "x9            35.1612      9.191      3.826      0.000      17.083      53.239\n",
       "x10            2.3514      3.548      0.663      0.508      -4.627       9.330\n",
       "==============================================================================\n",
       "Omnibus:                        1.457   Durbin-Watson:                   1.794\n",
       "Prob(Omnibus):                  0.483   Jarque-Bera (JB):                1.412\n",
       "Skew:                           0.064   Prob(JB):                        0.494\n",
       "Kurtosis:                       2.718   Cond. No.                         20.7\n",
       "==============================================================================\n",
       "\n",
       "Notes:\n",
       "[1] Standard Errors assume that the covariance matrix of the errors is correctly specified.\n",
       "\"\"\""
      ]
     },
     "execution_count": 7,
     "metadata": {},
     "output_type": "execute_result"
    }
   ],
   "source": [
    "X_train_sc_cst=sm.add_constant(X_train_sc)\n",
    "sm_ols=sm.OLS(y_train,X_train_sc_cst).fit()\n",
    "print(\"TRAIN: R2: %.5f\"%sm_ols.rsquared)\n",
    "sm_ols.summary()"
   ]
  },
  {
   "cell_type": "markdown",
   "id": "aaeb131b",
   "metadata": {},
   "source": [
    "## Predict and evaluate"
   ]
  },
  {
   "cell_type": "code",
   "execution_count": 8,
   "id": "a2bd436a",
   "metadata": {},
   "outputs": [
    {
     "name": "stdout",
     "output_type": "stream",
     "text": [
      "TEST R2: 0.453\n"
     ]
    }
   ],
   "source": [
    "X_test_sc_cst=sm.add_constant(X_test_sc)\n",
    "y_test_pred=sm_ols.predict(X_test_sc_cst)\n",
    "r2_test=r2_score(y_test, y_test_pred)\n",
    "print(\"TEST R2: %.3f\" % r2_test)"
   ]
  },
  {
   "cell_type": "markdown",
   "id": "54b633f7",
   "metadata": {},
   "source": [
    "## Visualization"
   ]
  },
  {
   "cell_type": "code",
   "execution_count": 9,
   "id": "ed83f218",
   "metadata": {},
   "outputs": [
    {
     "data": {
      "text/plain": [
       "<matplotlib.legend.Legend at 0x2312d587788>"
      ]
     },
     "execution_count": 9,
     "metadata": {},
     "output_type": "execute_result"
    },
    {
     "data": {
      "image/png": "[encoded data removed]",
      "text/plain": [
       "<Figure size 432x288 with 1 Axes>"
      ]
     },
     "metadata": {
      "needs_background": "light"
     },
     "output_type": "display_data"
    }
   ],
   "source": [
    "y_train_predict=sm_ols.predict(X_train_sc_cst)\n",
    "\n",
    "plt.scatter(y_train_predict,y_train,label='train')\n",
    "plt.scatter(y_test_pred,y_test,label='test')\n",
    "plt.plot(y_train,y_train,'-r')\n",
    "plt.annotate(r\"R2_train={0}, R2_test={1}\".format(round(r2_train,3),round(r2_test,3)), xy=(180, 20),xytext=(0, 0), textcoords='offset points',\n",
    "             fontsize=12)\n",
    "plt.xlabel(\"y_predict_ols\")\n",
    "plt.ylabel(\"y_true\")\n",
    "plt.title(\"Regression: Predicted vs True y\")\n",
    "plt.legend()"
   ]
  },
  {
   "cell_type": "markdown",
   "id": "0ee4dfdc",
   "metadata": {},
   "source": [
    "## Refit the model"
   ]
  },
  {
   "cell_type": "code",
   "execution_count": 10,
   "id": "03f2eb92",
   "metadata": {},
   "outputs": [
    {
     "data": {
      "text/plain": [
       "Index(['AGE', 'SEX', 'BMI', 'BP', 'S1', 'S2', 'S3', 'S4', 'S5', 'S6', 'Y'], dtype='object')"
      ]
     },
     "execution_count": 10,
     "metadata": {},
     "output_type": "execute_result"
    }
   ],
   "source": [
    "#Initial features in our dataset\n",
    "df.columns"
   ]
  },
  {
   "cell_type": "code",
   "execution_count": 11,
   "id": "7f9686b5",
   "metadata": {},
   "outputs": [],
   "source": [
    "def split_data(df,cols):\n",
    "    X_train,X_test,y_train,y_test=train_test_split(df[cols],df['Y'],test_size=0.2,random_state=42)\n",
    "    print(\"Train shape\",X_train.shape, \"Test shape\", X_test.shape)\n",
    "\n",
    "    sc_x=StandardScaler()\n",
    "    X_train_sc=sc_x.fit_transform(X_train)\n",
    "\n",
    "    # Apply the scaling to test data sets\n",
    "    X_test_sc=sc_x.transform(X_test)\n",
    "    return X_train_sc,X_test_sc,y_train,y_test"
   ]
  },
  {
   "cell_type": "code",
   "execution_count": 12,
   "id": "b5df386f",
   "metadata": {},
   "outputs": [
    {
     "name": "stdout",
     "output_type": "stream",
     "text": [
      "Train shape (353, 9) Test shape (89, 9)\n",
      "TRAIN: R2: 0.52750\n"
     ]
    },
    {
     "data": {
      "text/html": [
       "<table class=\"simpletable\">\n",
       "<caption>OLS Regression Results</caption>\n",
       "<tr>\n",
       "  <th>Dep. Variable:</th>            <td>Y</td>        <th>  R-squared:         </th> <td>   0.528</td>\n",
       "</tr>\n",
       "<tr>\n",
       "  <th>Model:</th>                   <td>OLS</td>       <th>  Adj. R-squared:    </th> <td>   0.515</td>\n",
       "</tr>\n",
       "<tr>\n",
       "  <th>Method:</th>             <td>Least Squares</td>  <th>  F-statistic:       </th> <td>   42.55</td>\n",
       "</tr>\n",
       "<tr>\n",
       "  <th>Date:</th>             <td>Sun, 29 Jan 2023</td> <th>  Prob (F-statistic):</th> <td>9.31e-51</td>\n",
       "</tr>\n",
       "<tr>\n",
       "  <th>Time:</th>                 <td>19:34:42</td>     <th>  Log-Likelihood:    </th> <td> -1906.3</td>\n",
       "</tr>\n",
       "<tr>\n",
       "  <th>No. Observations:</th>      <td>   353</td>      <th>  AIC:               </th> <td>   3833.</td>\n",
       "</tr>\n",
       "<tr>\n",
       "  <th>Df Residuals:</th>          <td>   343</td>      <th>  BIC:               </th> <td>   3871.</td>\n",
       "</tr>\n",
       "<tr>\n",
       "  <th>Df Model:</th>              <td>     9</td>      <th>                     </th>     <td> </td>   \n",
       "</tr>\n",
       "<tr>\n",
       "  <th>Covariance Type:</th>      <td>nonrobust</td>    <th>                     </th>     <td> </td>   \n",
       "</tr>\n",
       "</table>\n",
       "<table class=\"simpletable\">\n",
       "<tr>\n",
       "    <td></td>       <th>coef</th>     <th>std err</th>      <th>t</th>      <th>P>|t|</th>  <th>[0.025</th>    <th>0.975]</th>  \n",
       "</tr>\n",
       "<tr>\n",
       "  <th>const</th> <td>  153.7365</td> <td>    2.893</td> <td>   53.138</td> <td> 0.000</td> <td>  148.046</td> <td>  159.427</td>\n",
       "</tr>\n",
       "<tr>\n",
       "  <th>x1</th>    <td>  -11.2590</td> <td>    3.226</td> <td>   -3.490</td> <td> 0.001</td> <td>  -17.605</td> <td>   -4.913</td>\n",
       "</tr>\n",
       "<tr>\n",
       "  <th>x2</th>    <td>   25.6246</td> <td>    3.629</td> <td>    7.061</td> <td> 0.000</td> <td>   18.487</td> <td>   32.763</td>\n",
       "</tr>\n",
       "<tr>\n",
       "  <th>x3</th>    <td>   17.1438</td> <td>    3.402</td> <td>    5.039</td> <td> 0.000</td> <td>   10.452</td> <td>   23.836</td>\n",
       "</tr>\n",
       "<tr>\n",
       "  <th>x4</th>    <td>  -44.6808</td> <td>   21.501</td> <td>   -2.078</td> <td> 0.038</td> <td>  -86.972</td> <td>   -2.390</td>\n",
       "</tr>\n",
       "<tr>\n",
       "  <th>x5</th>    <td>   25.1515</td> <td>   17.276</td> <td>    1.456</td> <td> 0.146</td> <td>   -8.829</td> <td>   59.132</td>\n",
       "</tr>\n",
       "<tr>\n",
       "  <th>x6</th>    <td>    7.8828</td> <td>   10.929</td> <td>    0.721</td> <td> 0.471</td> <td>  -13.613</td> <td>   29.379</td>\n",
       "</tr>\n",
       "<tr>\n",
       "  <th>x7</th>    <td>   12.9039</td> <td>    8.828</td> <td>    1.462</td> <td> 0.145</td> <td>   -4.461</td> <td>   30.268</td>\n",
       "</tr>\n",
       "<tr>\n",
       "  <th>x8</th>    <td>   35.5552</td> <td>    9.153</td> <td>    3.884</td> <td> 0.000</td> <td>   17.551</td> <td>   53.559</td>\n",
       "</tr>\n",
       "<tr>\n",
       "  <th>x9</th>    <td>    2.5775</td> <td>    3.520</td> <td>    0.732</td> <td> 0.465</td> <td>   -4.346</td> <td>    9.501</td>\n",
       "</tr>\n",
       "</table>\n",
       "<table class=\"simpletable\">\n",
       "<tr>\n",
       "  <th>Omnibus:</th>       <td> 1.373</td> <th>  Durbin-Watson:     </th> <td>   1.789</td>\n",
       "</tr>\n",
       "<tr>\n",
       "  <th>Prob(Omnibus):</th> <td> 0.503</td> <th>  Jarque-Bera (JB):  </th> <td>   1.336</td>\n",
       "</tr>\n",
       "<tr>\n",
       "  <th>Skew:</th>          <td> 0.056</td> <th>  Prob(JB):          </th> <td>   0.513</td>\n",
       "</tr>\n",
       "<tr>\n",
       "  <th>Kurtosis:</th>      <td> 2.720</td> <th>  Cond. No.          </th> <td>    20.4</td>\n",
       "</tr>\n",
       "</table><br/><br/>Notes:<br/>[1] Standard Errors assume that the covariance matrix of the errors is correctly specified."
      ],
      "text/plain": [
       "<class 'statsmodels.iolib.summary.Summary'>\n",
       "\"\"\"\n",
       "                            OLS Regression Results                            \n",
       "==============================================================================\n",
       "Dep. Variable:                      Y   R-squared:                       0.528\n",
       "Model:                            OLS   Adj. R-squared:                  0.515\n",
       "Method:                 Least Squares   F-statistic:                     42.55\n",
       "Date:                Sun, 29 Jan 2023   Prob (F-statistic):           9.31e-51\n",
       "Time:                        19:34:42   Log-Likelihood:                -1906.3\n",
       "No. Observations:                 353   AIC:                             3833.\n",
       "Df Residuals:                     343   BIC:                             3871.\n",
       "Df Model:                           9                                         \n",
       "Covariance Type:            nonrobust                                         \n",
       "==============================================================================\n",
       "                 coef    std err          t      P>|t|      [0.025      0.975]\n",
       "------------------------------------------------------------------------------\n",
       "const        153.7365      2.893     53.138      0.000     148.046     159.427\n",
       "x1           -11.2590      3.226     -3.490      0.001     -17.605      -4.913\n",
       "x2            25.6246      3.629      7.061      0.000      18.487      32.763\n",
       "x3            17.1438      3.402      5.039      0.000      10.452      23.836\n",
       "x4           -44.6808     21.501     -2.078      0.038     -86.972      -2.390\n",
       "x5            25.1515     17.276      1.456      0.146      -8.829      59.132\n",
       "x6             7.8828     10.929      0.721      0.471     -13.613      29.379\n",
       "x7            12.9039      8.828      1.462      0.145      -4.461      30.268\n",
       "x8            35.5552      9.153      3.884      0.000      17.551      53.559\n",
       "x9             2.5775      3.520      0.732      0.465      -4.346       9.501\n",
       "==============================================================================\n",
       "Omnibus:                        1.373   Durbin-Watson:                   1.789\n",
       "Prob(Omnibus):                  0.503   Jarque-Bera (JB):                1.336\n",
       "Skew:                           0.056   Prob(JB):                        0.513\n",
       "Kurtosis:                       2.720   Cond. No.                         20.4\n",
       "==============================================================================\n",
       "\n",
       "Notes:\n",
       "[1] Standard Errors assume that the covariance matrix of the errors is correctly specified.\n",
       "\"\"\""
      ]
     },
     "execution_count": 12,
     "metadata": {},
     "output_type": "execute_result"
    }
   ],
   "source": [
    "## intial columns\n",
    "cols=['AGE', 'SEX', 'BMI', 'BP', 'S1', 'S2', 'S3', 'S4', 'S5', 'S6']\n",
    "# remove AGE as the pvalue =0.583\n",
    "cols=[ 'SEX', 'BMI', 'BP', 'S1', 'S2', 'S3', 'S4', 'S5', 'S6']\n",
    "X_train_sc,X_test_sc,y_train,y_test=split_data(df,cols)\n",
    "X_new=X_train_sc[:,1:]\n",
    "X_train_sc_cst=sm.add_constant(X_train_sc)\n",
    "sm_ols=sm.OLS(y_train,X_train_sc_cst).fit()\n",
    "print(\"TRAIN: R2: %.5f\"%sm_ols.rsquared)\n",
    "sm_ols.summary()"
   ]
  },
  {
   "cell_type": "code",
   "execution_count": 13,
   "id": "3ea325c5",
   "metadata": {},
   "outputs": [
    {
     "name": "stdout",
     "output_type": "stream",
     "text": [
      "Train shape (353, 8) Test shape (89, 8)\n",
      "TRAIN: R2: 0.52679\n"
     ]
    },
    {
     "data": {
      "text/html": [
       "<table class=\"simpletable\">\n",
       "<caption>OLS Regression Results</caption>\n",
       "<tr>\n",
       "  <th>Dep. Variable:</th>            <td>Y</td>        <th>  R-squared:         </th> <td>   0.527</td>\n",
       "</tr>\n",
       "<tr>\n",
       "  <th>Model:</th>                   <td>OLS</td>       <th>  Adj. R-squared:    </th> <td>   0.516</td>\n",
       "</tr>\n",
       "<tr>\n",
       "  <th>Method:</th>             <td>Least Squares</td>  <th>  F-statistic:       </th> <td>   47.87</td>\n",
       "</tr>\n",
       "<tr>\n",
       "  <th>Date:</th>             <td>Sun, 29 Jan 2023</td> <th>  Prob (F-statistic):</th> <td>1.68e-51</td>\n",
       "</tr>\n",
       "<tr>\n",
       "  <th>Time:</th>                 <td>19:34:42</td>     <th>  Log-Likelihood:    </th> <td> -1906.5</td>\n",
       "</tr>\n",
       "<tr>\n",
       "  <th>No. Observations:</th>      <td>   353</td>      <th>  AIC:               </th> <td>   3831.</td>\n",
       "</tr>\n",
       "<tr>\n",
       "  <th>Df Residuals:</th>          <td>   344</td>      <th>  BIC:               </th> <td>   3866.</td>\n",
       "</tr>\n",
       "<tr>\n",
       "  <th>Df Model:</th>              <td>     8</td>      <th>                     </th>     <td> </td>   \n",
       "</tr>\n",
       "<tr>\n",
       "  <th>Covariance Type:</th>      <td>nonrobust</td>    <th>                     </th>     <td> </td>   \n",
       "</tr>\n",
       "</table>\n",
       "<table class=\"simpletable\">\n",
       "<tr>\n",
       "    <td></td>       <th>coef</th>     <th>std err</th>      <th>t</th>      <th>P>|t|</th>  <th>[0.025</th>    <th>0.975]</th>  \n",
       "</tr>\n",
       "<tr>\n",
       "  <th>const</th> <td>  153.7365</td> <td>    2.891</td> <td>   53.175</td> <td> 0.000</td> <td>  148.050</td> <td>  159.423</td>\n",
       "</tr>\n",
       "<tr>\n",
       "  <th>x1</th>    <td>  -11.3370</td> <td>    3.222</td> <td>   -3.518</td> <td> 0.000</td> <td>  -17.675</td> <td>   -4.999</td>\n",
       "</tr>\n",
       "<tr>\n",
       "  <th>x2</th>    <td>   25.6665</td> <td>    3.626</td> <td>    7.078</td> <td> 0.000</td> <td>   18.534</td> <td>   32.799</td>\n",
       "</tr>\n",
       "<tr>\n",
       "  <th>x3</th>    <td>   17.0643</td> <td>    3.398</td> <td>    5.022</td> <td> 0.000</td> <td>   10.381</td> <td>   23.748</td>\n",
       "</tr>\n",
       "<tr>\n",
       "  <th>x4</th>    <td>  -31.3262</td> <td>   10.924</td> <td>   -2.868</td> <td> 0.004</td> <td>  -52.813</td> <td>   -9.840</td>\n",
       "</tr>\n",
       "<tr>\n",
       "  <th>x5</th>    <td>   15.9568</td> <td>   11.652</td> <td>    1.369</td> <td> 0.172</td> <td>   -6.961</td> <td>   38.875</td>\n",
       "</tr>\n",
       "<tr>\n",
       "  <th>x6</th>    <td>    8.5929</td> <td>    6.493</td> <td>    1.323</td> <td> 0.187</td> <td>   -4.178</td> <td>   21.364</td>\n",
       "</tr>\n",
       "<tr>\n",
       "  <th>x7</th>    <td>   31.0169</td> <td>    6.644</td> <td>    4.669</td> <td> 0.000</td> <td>   17.950</td> <td>   44.084</td>\n",
       "</tr>\n",
       "<tr>\n",
       "  <th>x8</th>    <td>    2.6438</td> <td>    3.517</td> <td>    0.752</td> <td> 0.453</td> <td>   -4.273</td> <td>    9.560</td>\n",
       "</tr>\n",
       "</table>\n",
       "<table class=\"simpletable\">\n",
       "<tr>\n",
       "  <th>Omnibus:</th>       <td> 1.461</td> <th>  Durbin-Watson:     </th> <td>   1.800</td>\n",
       "</tr>\n",
       "<tr>\n",
       "  <th>Prob(Omnibus):</th> <td> 0.482</td> <th>  Jarque-Bera (JB):  </th> <td>   1.410</td>\n",
       "</tr>\n",
       "<tr>\n",
       "  <th>Skew:</th>          <td> 0.062</td> <th>  Prob(JB):          </th> <td>   0.494</td>\n",
       "</tr>\n",
       "<tr>\n",
       "  <th>Kurtosis:</th>      <td> 2.716</td> <th>  Cond. No.          </th> <td>    11.3</td>\n",
       "</tr>\n",
       "</table><br/><br/>Notes:<br/>[1] Standard Errors assume that the covariance matrix of the errors is correctly specified."
      ],
      "text/plain": [
       "<class 'statsmodels.iolib.summary.Summary'>\n",
       "\"\"\"\n",
       "                            OLS Regression Results                            \n",
       "==============================================================================\n",
       "Dep. Variable:                      Y   R-squared:                       0.527\n",
       "Model:                            OLS   Adj. R-squared:                  0.516\n",
       "Method:                 Least Squares   F-statistic:                     47.87\n",
       "Date:                Sun, 29 Jan 2023   Prob (F-statistic):           1.68e-51\n",
       "Time:                        19:34:42   Log-Likelihood:                -1906.5\n",
       "No. Observations:                 353   AIC:                             3831.\n",
       "Df Residuals:                     344   BIC:                             3866.\n",
       "Df Model:                           8                                         \n",
       "Covariance Type:            nonrobust                                         \n",
       "==============================================================================\n",
       "                 coef    std err          t      P>|t|      [0.025      0.975]\n",
       "------------------------------------------------------------------------------\n",
       "const        153.7365      2.891     53.175      0.000     148.050     159.423\n",
       "x1           -11.3370      3.222     -3.518      0.000     -17.675      -4.999\n",
       "x2            25.6665      3.626      7.078      0.000      18.534      32.799\n",
       "x3            17.0643      3.398      5.022      0.000      10.381      23.748\n",
       "x4           -31.3262     10.924     -2.868      0.004     -52.813      -9.840\n",
       "x5            15.9568     11.652      1.369      0.172      -6.961      38.875\n",
       "x6             8.5929      6.493      1.323      0.187      -4.178      21.364\n",
       "x7            31.0169      6.644      4.669      0.000      17.950      44.084\n",
       "x8             2.6438      3.517      0.752      0.453      -4.273       9.560\n",
       "==============================================================================\n",
       "Omnibus:                        1.461   Durbin-Watson:                   1.800\n",
       "Prob(Omnibus):                  0.482   Jarque-Bera (JB):                1.410\n",
       "Skew:                           0.062   Prob(JB):                        0.494\n",
       "Kurtosis:                       2.716   Cond. No.                         11.3\n",
       "==============================================================================\n",
       "\n",
       "Notes:\n",
       "[1] Standard Errors assume that the covariance matrix of the errors is correctly specified.\n",
       "\"\"\""
      ]
     },
     "execution_count": 13,
     "metadata": {},
     "output_type": "execute_result"
    }
   ],
   "source": [
    "## intial columns\n",
    "# cols=['AGE', 'SEX', 'BMI', 'BP', 'S1', 'S2', 'S3', 'S4', 'S5', 'S6']\n",
    "## After removing age\n",
    "# cols=[ 'SEX', 'BMI', 'BP', 'S1', 'S2', 'S3', 'S4', 'S5', 'S6']\n",
    "# remove S3 as the pvalue =0.471\n",
    "cols=[ 'SEX', 'BMI', 'BP', 'S1', 'S2', 'S4', 'S5', 'S6']\n",
    "X_train_sc,X_test_sc,y_train,y_test=split_data(df,cols)\n",
    "X_new=X_train_sc[:,1:]\n",
    "X_train_sc_cst=sm.add_constant(X_train_sc)\n",
    "sm_ols=sm.OLS(y_train,X_train_sc_cst).fit()\n",
    "print(\"TRAIN: R2: %.5f\"%sm_ols.rsquared)\n",
    "sm_ols.summary()"
   ]
  },
  {
   "cell_type": "code",
   "execution_count": 14,
   "id": "c03aca75",
   "metadata": {},
   "outputs": [
    {
     "name": "stdout",
     "output_type": "stream",
     "text": [
      "Train shape (353, 7) Test shape (89, 7)\n",
      "TRAIN: R2: 0.52601\n"
     ]
    },
    {
     "data": {
      "text/html": [
       "<table class=\"simpletable\">\n",
       "<caption>OLS Regression Results</caption>\n",
       "<tr>\n",
       "  <th>Dep. Variable:</th>            <td>Y</td>        <th>  R-squared:         </th> <td>   0.526</td>\n",
       "</tr>\n",
       "<tr>\n",
       "  <th>Model:</th>                   <td>OLS</td>       <th>  Adj. R-squared:    </th> <td>   0.516</td>\n",
       "</tr>\n",
       "<tr>\n",
       "  <th>Method:</th>             <td>Least Squares</td>  <th>  F-statistic:       </th> <td>   54.69</td>\n",
       "</tr>\n",
       "<tr>\n",
       "  <th>Date:</th>             <td>Sun, 29 Jan 2023</td> <th>  Prob (F-statistic):</th> <td>2.88e-52</td>\n",
       "</tr>\n",
       "<tr>\n",
       "  <th>Time:</th>                 <td>19:34:42</td>     <th>  Log-Likelihood:    </th> <td> -1906.8</td>\n",
       "</tr>\n",
       "<tr>\n",
       "  <th>No. Observations:</th>      <td>   353</td>      <th>  AIC:               </th> <td>   3830.</td>\n",
       "</tr>\n",
       "<tr>\n",
       "  <th>Df Residuals:</th>          <td>   345</td>      <th>  BIC:               </th> <td>   3861.</td>\n",
       "</tr>\n",
       "<tr>\n",
       "  <th>Df Model:</th>              <td>     7</td>      <th>                     </th>     <td> </td>   \n",
       "</tr>\n",
       "<tr>\n",
       "  <th>Covariance Type:</th>      <td>nonrobust</td>    <th>                     </th>     <td> </td>   \n",
       "</tr>\n",
       "</table>\n",
       "<table class=\"simpletable\">\n",
       "<tr>\n",
       "    <td></td>       <th>coef</th>     <th>std err</th>      <th>t</th>      <th>P>|t|</th>  <th>[0.025</th>    <th>0.975]</th>  \n",
       "</tr>\n",
       "<tr>\n",
       "  <th>const</th> <td>  153.7365</td> <td>    2.889</td> <td>   53.208</td> <td> 0.000</td> <td>  148.054</td> <td>  159.419</td>\n",
       "</tr>\n",
       "<tr>\n",
       "  <th>x1</th>    <td>  -11.1978</td> <td>    3.215</td> <td>   -3.483</td> <td> 0.001</td> <td>  -17.521</td> <td>   -4.875</td>\n",
       "</tr>\n",
       "<tr>\n",
       "  <th>x2</th>    <td>   26.0527</td> <td>    3.587</td> <td>    7.262</td> <td> 0.000</td> <td>   18.997</td> <td>   33.108</td>\n",
       "</tr>\n",
       "<tr>\n",
       "  <th>x3</th>    <td>   17.5380</td> <td>    3.337</td> <td>    5.256</td> <td> 0.000</td> <td>   10.975</td> <td>   24.101</td>\n",
       "</tr>\n",
       "<tr>\n",
       "  <th>x4</th>    <td>  -31.5246</td> <td>   10.914</td> <td>   -2.888</td> <td> 0.004</td> <td>  -52.991</td> <td>  -10.058</td>\n",
       "</tr>\n",
       "<tr>\n",
       "  <th>x5</th>    <td>   16.3309</td> <td>   11.634</td> <td>    1.404</td> <td> 0.161</td> <td>   -6.552</td> <td>   39.213</td>\n",
       "</tr>\n",
       "<tr>\n",
       "  <th>x6</th>    <td>    8.8353</td> <td>    6.481</td> <td>    1.363</td> <td> 0.174</td> <td>   -3.912</td> <td>   21.582</td>\n",
       "</tr>\n",
       "<tr>\n",
       "  <th>x7</th>    <td>   31.7499</td> <td>    6.567</td> <td>    4.834</td> <td> 0.000</td> <td>   18.833</td> <td>   44.667</td>\n",
       "</tr>\n",
       "</table>\n",
       "<table class=\"simpletable\">\n",
       "<tr>\n",
       "  <th>Omnibus:</th>       <td> 1.335</td> <th>  Durbin-Watson:     </th> <td>   1.803</td>\n",
       "</tr>\n",
       "<tr>\n",
       "  <th>Prob(Omnibus):</th> <td> 0.513</td> <th>  Jarque-Bera (JB):  </th> <td>   1.337</td>\n",
       "</tr>\n",
       "<tr>\n",
       "  <th>Skew:</th>          <td> 0.072</td> <th>  Prob(JB):          </th> <td>   0.513</td>\n",
       "</tr>\n",
       "<tr>\n",
       "  <th>Kurtosis:</th>      <td> 2.735</td> <th>  Cond. No.          </th> <td>    10.8</td>\n",
       "</tr>\n",
       "</table><br/><br/>Notes:<br/>[1] Standard Errors assume that the covariance matrix of the errors is correctly specified."
      ],
      "text/plain": [
       "<class 'statsmodels.iolib.summary.Summary'>\n",
       "\"\"\"\n",
       "                            OLS Regression Results                            \n",
       "==============================================================================\n",
       "Dep. Variable:                      Y   R-squared:                       0.526\n",
       "Model:                            OLS   Adj. R-squared:                  0.516\n",
       "Method:                 Least Squares   F-statistic:                     54.69\n",
       "Date:                Sun, 29 Jan 2023   Prob (F-statistic):           2.88e-52\n",
       "Time:                        19:34:42   Log-Likelihood:                -1906.8\n",
       "No. Observations:                 353   AIC:                             3830.\n",
       "Df Residuals:                     345   BIC:                             3861.\n",
       "Df Model:                           7                                         \n",
       "Covariance Type:            nonrobust                                         \n",
       "==============================================================================\n",
       "                 coef    std err          t      P>|t|      [0.025      0.975]\n",
       "------------------------------------------------------------------------------\n",
       "const        153.7365      2.889     53.208      0.000     148.054     159.419\n",
       "x1           -11.1978      3.215     -3.483      0.001     -17.521      -4.875\n",
       "x2            26.0527      3.587      7.262      0.000      18.997      33.108\n",
       "x3            17.5380      3.337      5.256      0.000      10.975      24.101\n",
       "x4           -31.5246     10.914     -2.888      0.004     -52.991     -10.058\n",
       "x5            16.3309     11.634      1.404      0.161      -6.552      39.213\n",
       "x6             8.8353      6.481      1.363      0.174      -3.912      21.582\n",
       "x7            31.7499      6.567      4.834      0.000      18.833      44.667\n",
       "==============================================================================\n",
       "Omnibus:                        1.335   Durbin-Watson:                   1.803\n",
       "Prob(Omnibus):                  0.513   Jarque-Bera (JB):                1.337\n",
       "Skew:                           0.072   Prob(JB):                        0.513\n",
       "Kurtosis:                       2.735   Cond. No.                         10.8\n",
       "==============================================================================\n",
       "\n",
       "Notes:\n",
       "[1] Standard Errors assume that the covariance matrix of the errors is correctly specified.\n",
       "\"\"\""
      ]
     },
     "execution_count": 14,
     "metadata": {},
     "output_type": "execute_result"
    }
   ],
   "source": [
    "## intial columns\n",
    "# cols=['AGE', 'SEX', 'BMI', 'BP', 'S1', 'S2', 'S3', 'S4', 'S5', 'S6']\n",
    "## After removing AGE\n",
    "# cols=[ 'SEX', 'BMI', 'BP', 'S1', 'S2', 'S3', 'S4', 'S5', 'S6']\n",
    "## After removing S3\n",
    "# cols=[ 'SEX', 'BMI', 'BP', 'S1', 'S2', 'S4', 'S5', 'S6']\n",
    "## remove S6 as the pvalue =0.453\n",
    "cols=[ 'SEX', 'BMI', 'BP', 'S1', 'S2', 'S4', 'S5']\n",
    "X_train_sc,X_test_sc,y_train,y_test=split_data(df,cols)\n",
    "X_new=X_train_sc[:,1:]\n",
    "X_train_sc_cst=sm.add_constant(X_train_sc)\n",
    "sm_ols=sm.OLS(y_train,X_train_sc_cst).fit()\n",
    "print(\"TRAIN: R2: %.5f\"%sm_ols.rsquared)\n",
    "sm_ols.summary()"
   ]
  },
  {
   "cell_type": "code",
   "execution_count": 15,
   "id": "7cd75634",
   "metadata": {},
   "outputs": [
    {
     "name": "stdout",
     "output_type": "stream",
     "text": [
      "Train shape (353, 6) Test shape (89, 6)\n",
      "TRAIN: R2: 0.52346\n"
     ]
    },
    {
     "data": {
      "text/html": [
       "<table class=\"simpletable\">\n",
       "<caption>OLS Regression Results</caption>\n",
       "<tr>\n",
       "  <th>Dep. Variable:</th>            <td>Y</td>        <th>  R-squared:         </th> <td>   0.523</td>\n",
       "</tr>\n",
       "<tr>\n",
       "  <th>Model:</th>                   <td>OLS</td>       <th>  Adj. R-squared:    </th> <td>   0.515</td>\n",
       "</tr>\n",
       "<tr>\n",
       "  <th>Method:</th>             <td>Least Squares</td>  <th>  F-statistic:       </th> <td>   63.34</td>\n",
       "</tr>\n",
       "<tr>\n",
       "  <th>Date:</th>             <td>Sun, 29 Jan 2023</td> <th>  Prob (F-statistic):</th> <td>8.64e-53</td>\n",
       "</tr>\n",
       "<tr>\n",
       "  <th>Time:</th>                 <td>19:34:42</td>     <th>  Log-Likelihood:    </th> <td> -1907.8</td>\n",
       "</tr>\n",
       "<tr>\n",
       "  <th>No. Observations:</th>      <td>   353</td>      <th>  AIC:               </th> <td>   3830.</td>\n",
       "</tr>\n",
       "<tr>\n",
       "  <th>Df Residuals:</th>          <td>   346</td>      <th>  BIC:               </th> <td>   3857.</td>\n",
       "</tr>\n",
       "<tr>\n",
       "  <th>Df Model:</th>              <td>     6</td>      <th>                     </th>     <td> </td>   \n",
       "</tr>\n",
       "<tr>\n",
       "  <th>Covariance Type:</th>      <td>nonrobust</td>    <th>                     </th>     <td> </td>   \n",
       "</tr>\n",
       "</table>\n",
       "<table class=\"simpletable\">\n",
       "<tr>\n",
       "    <td></td>       <th>coef</th>     <th>std err</th>      <th>t</th>      <th>P>|t|</th>  <th>[0.025</th>    <th>0.975]</th>  \n",
       "</tr>\n",
       "<tr>\n",
       "  <th>const</th> <td>  153.7365</td> <td>    2.893</td> <td>   53.142</td> <td> 0.000</td> <td>  148.047</td> <td>  159.426</td>\n",
       "</tr>\n",
       "<tr>\n",
       "  <th>x1</th>    <td>  -10.2417</td> <td>    3.141</td> <td>   -3.260</td> <td> 0.001</td> <td>  -16.420</td> <td>   -4.063</td>\n",
       "</tr>\n",
       "<tr>\n",
       "  <th>x2</th>    <td>   26.3098</td> <td>    3.587</td> <td>    7.335</td> <td> 0.000</td> <td>   19.255</td> <td>   33.364</td>\n",
       "</tr>\n",
       "<tr>\n",
       "  <th>x3</th>    <td>   16.9487</td> <td>    3.313</td> <td>    5.116</td> <td> 0.000</td> <td>   10.433</td> <td>   23.465</td>\n",
       "</tr>\n",
       "<tr>\n",
       "  <th>x4</th>    <td>  -40.6327</td> <td>    8.641</td> <td>   -4.702</td> <td> 0.000</td> <td>  -57.628</td> <td>  -23.637</td>\n",
       "</tr>\n",
       "<tr>\n",
       "  <th>x5</th>    <td>   28.1146</td> <td>    7.797</td> <td>    3.606</td> <td> 0.000</td> <td>   12.779</td> <td>   43.450</td>\n",
       "</tr>\n",
       "<tr>\n",
       "  <th>x6</th>    <td>   38.3574</td> <td>    4.437</td> <td>    8.644</td> <td> 0.000</td> <td>   29.630</td> <td>   47.085</td>\n",
       "</tr>\n",
       "</table>\n",
       "<table class=\"simpletable\">\n",
       "<tr>\n",
       "  <th>Omnibus:</th>       <td> 1.563</td> <th>  Durbin-Watson:     </th> <td>   1.780</td>\n",
       "</tr>\n",
       "<tr>\n",
       "  <th>Prob(Omnibus):</th> <td> 0.458</td> <th>  Jarque-Bera (JB):  </th> <td>   1.481</td>\n",
       "</tr>\n",
       "<tr>\n",
       "  <th>Skew:</th>          <td> 0.061</td> <th>  Prob(JB):          </th> <td>   0.477</td>\n",
       "</tr>\n",
       "<tr>\n",
       "  <th>Kurtosis:</th>      <td> 2.708</td> <th>  Cond. No.          </th> <td>    6.64</td>\n",
       "</tr>\n",
       "</table><br/><br/>Notes:<br/>[1] Standard Errors assume that the covariance matrix of the errors is correctly specified."
      ],
      "text/plain": [
       "<class 'statsmodels.iolib.summary.Summary'>\n",
       "\"\"\"\n",
       "                            OLS Regression Results                            \n",
       "==============================================================================\n",
       "Dep. Variable:                      Y   R-squared:                       0.523\n",
       "Model:                            OLS   Adj. R-squared:                  0.515\n",
       "Method:                 Least Squares   F-statistic:                     63.34\n",
       "Date:                Sun, 29 Jan 2023   Prob (F-statistic):           8.64e-53\n",
       "Time:                        19:34:42   Log-Likelihood:                -1907.8\n",
       "No. Observations:                 353   AIC:                             3830.\n",
       "Df Residuals:                     346   BIC:                             3857.\n",
       "Df Model:                           6                                         \n",
       "Covariance Type:            nonrobust                                         \n",
       "==============================================================================\n",
       "                 coef    std err          t      P>|t|      [0.025      0.975]\n",
       "------------------------------------------------------------------------------\n",
       "const        153.7365      2.893     53.142      0.000     148.047     159.426\n",
       "x1           -10.2417      3.141     -3.260      0.001     -16.420      -4.063\n",
       "x2            26.3098      3.587      7.335      0.000      19.255      33.364\n",
       "x3            16.9487      3.313      5.116      0.000      10.433      23.465\n",
       "x4           -40.6327      8.641     -4.702      0.000     -57.628     -23.637\n",
       "x5            28.1146      7.797      3.606      0.000      12.779      43.450\n",
       "x6            38.3574      4.437      8.644      0.000      29.630      47.085\n",
       "==============================================================================\n",
       "Omnibus:                        1.563   Durbin-Watson:                   1.780\n",
       "Prob(Omnibus):                  0.458   Jarque-Bera (JB):                1.481\n",
       "Skew:                           0.061   Prob(JB):                        0.477\n",
       "Kurtosis:                       2.708   Cond. No.                         6.64\n",
       "==============================================================================\n",
       "\n",
       "Notes:\n",
       "[1] Standard Errors assume that the covariance matrix of the errors is correctly specified.\n",
       "\"\"\""
      ]
     },
     "execution_count": 15,
     "metadata": {},
     "output_type": "execute_result"
    }
   ],
   "source": [
    "## intial columns\n",
    "# cols=['AGE', 'SEX', 'BMI', 'BP', 'S1', 'S2', 'S3', 'S4', 'S5', 'S6']\n",
    "## After removing AGE\n",
    "# cols=[ 'SEX', 'BMI', 'BP', 'S1', 'S2', 'S3', 'S4', 'S5', 'S6']\n",
    "## After removing S3\n",
    "# cols=[ 'SEX', 'BMI', 'BP', 'S1', 'S2', 'S4', 'S5', 'S6']\n",
    "## After removing S6\n",
    "# cols=[ 'SEX', 'BMI', 'BP', 'S1', 'S2', 'S4', 'S5']\n",
    "## remove S4 as the pvalue =0.174\n",
    "cols=[ 'SEX', 'BMI', 'BP', 'S1', 'S2', 'S5']\n",
    "X_train_sc,X_test_sc,y_train,y_test=split_data(df,cols)\n",
    "X_new=X_train_sc[:,1:]\n",
    "X_train_sc_cst=sm.add_constant(X_train_sc)\n",
    "sm_ols=sm.OLS(y_train,X_train_sc_cst).fit()\n",
    "print(\"TRAIN: R2: %.5f\"%sm_ols.rsquared)\n",
    "sm_ols.summary()"
   ]
  },
  {
   "cell_type": "raw",
   "id": "c3da2027",
   "metadata": {},
   "source": [
    "All p-values are less than 0.05"
   ]
  },
  {
   "cell_type": "markdown",
   "id": "ef324969",
   "metadata": {},
   "source": [
    "## Predict the test set with new dataset"
   ]
  },
  {
   "cell_type": "code",
   "execution_count": 16,
   "id": "7be58fbc",
   "metadata": {},
   "outputs": [
    {
     "data": {
      "text/plain": [
       "0.4627767079320302"
      ]
     },
     "execution_count": 16,
     "metadata": {},
     "output_type": "execute_result"
    }
   ],
   "source": [
    "X_test_sc_cst=sm.add_constant(X_test_sc)\n",
    "y_test_pred=sm_ols.predict(X_test_sc_cst)\n",
    "r2_test=r2_score(y_test, y_test_pred)\n",
    "r2_test"
   ]
  },
  {
   "cell_type": "raw",
   "id": "2259547a",
   "metadata": {},
   "source": [
    "The R2 score is better than teh first model with the whole feature: 0.4526027629719196"
   ]
  },
  {
   "cell_type": "raw",
   "id": "134797b0",
   "metadata": {},
   "source": [
    "You can use other models that better perform this finding of the best features. You can use for example LassoCV\n",
    "which will shrink the parameters of some features to zero, thus performing a feature selection tool.\n",
    "Download for free this ebook, there are some interesting explanation on regularization models:\n",
    "    https://sites.google.com/view/machinelearning-sample/download-free-ebook\n",
    "        "
   ]
  }
 ],
 "metadata": {
  "kernelspec": {
   "display_name": "Python 3",
   "language": "python",
   "name": "python3"
  },
  "language_info": {
   "codemirror_mode": {
    "name": "ipython",
    "version": 3
   },
   "file_extension": ".py",
   "mimetype": "text/x-python",
   "name": "python",
   "nbconvert_exporter": "python",
   "pygments_lexer": "ipython3",
   "version": "3.7.6"
  },
  "toc": {
   "base_numbering": 1,
   "nav_menu": {},
   "number_sections": true,
   "sideBar": true,
   "skip_h1_title": false,
   "title_cell": "Table of Contents",
   "title_sidebar": "Contents",
   "toc_cell": false,
   "toc_position": {
    "height": "calc(100% - 180px)",
    "left": "10px",
    "top": "150px",
    "width": "207.797px"
   },
   "toc_section_display": true,
   "toc_window_display": true
  }
 },
 "nbformat": 4,
 "nbformat_minor": 5
}
